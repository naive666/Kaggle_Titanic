{
 "cells": [
  {
   "cell_type": "code",
   "execution_count": 1,
   "metadata": {
    "ExecuteTime": {
     "end_time": "2019-12-02T23:26:45.247148Z",
     "start_time": "2019-12-02T23:26:43.204874Z"
    }
   },
   "outputs": [],
   "source": [
    "import pandas as pd\n",
    "import numpy as np\n",
    "import matplotlib.pyplot as plt\n",
    "import seaborn as sns\n",
    "import re\n",
    "from sklearn.preprocessing import StandardScaler"
   ]
  },
  {
   "cell_type": "code",
   "execution_count": 2,
   "metadata": {
    "ExecuteTime": {
     "end_time": "2019-12-01T20:04:42.565093Z",
     "start_time": "2019-12-01T20:04:42.513201Z"
    }
   },
   "outputs": [],
   "source": [
    "full_op = pd.read_csv('full_data.csv')"
   ]
  },
  {
   "cell_type": "code",
   "execution_count": 3,
   "metadata": {
    "ExecuteTime": {
     "end_time": "2019-12-01T20:04:43.558176Z",
     "start_time": "2019-12-01T20:04:43.552194Z"
    }
   },
   "outputs": [],
   "source": [
    "full_op.drop('Unnamed: 0', axis = 1, inplace=True)"
   ]
  },
  {
   "cell_type": "code",
   "execution_count": 4,
   "metadata": {
    "ExecuteTime": {
     "end_time": "2019-12-01T20:04:45.295213Z",
     "start_time": "2019-12-01T20:04:45.276308Z"
    }
   },
   "outputs": [
    {
     "data": {
      "text/html": [
       "<div>\n",
       "<style scoped>\n",
       "    .dataframe tbody tr th:only-of-type {\n",
       "        vertical-align: middle;\n",
       "    }\n",
       "\n",
       "    .dataframe tbody tr th {\n",
       "        vertical-align: top;\n",
       "    }\n",
       "\n",
       "    .dataframe thead th {\n",
       "        text-align: right;\n",
       "    }\n",
       "</style>\n",
       "<table border=\"1\" class=\"dataframe\">\n",
       "  <thead>\n",
       "    <tr style=\"text-align: right;\">\n",
       "      <th></th>\n",
       "      <th>Age</th>\n",
       "      <th>Cabin</th>\n",
       "      <th>Parch</th>\n",
       "      <th>Pclass</th>\n",
       "      <th>SibSp</th>\n",
       "      <th>Survived</th>\n",
       "      <th>C</th>\n",
       "      <th>Q</th>\n",
       "      <th>S</th>\n",
       "      <th>Cabin_letter</th>\n",
       "      <th>title</th>\n",
       "      <th>sex</th>\n",
       "      <th>Fare_bin_id</th>\n",
       "      <th>Fare_0</th>\n",
       "      <th>Fare_1</th>\n",
       "      <th>Fare_2</th>\n",
       "      <th>Fare_3</th>\n",
       "      <th>Fare_4</th>\n",
       "      <th>Pclass_Fare_Category2</th>\n",
       "      <th>Fare</th>\n",
       "    </tr>\n",
       "  </thead>\n",
       "  <tbody>\n",
       "    <tr>\n",
       "      <th>0</th>\n",
       "      <td>22.000000</td>\n",
       "      <td>U0</td>\n",
       "      <td>0</td>\n",
       "      <td>3</td>\n",
       "      <td>1</td>\n",
       "      <td>0</td>\n",
       "      <td>0</td>\n",
       "      <td>0</td>\n",
       "      <td>1</td>\n",
       "      <td>0</td>\n",
       "      <td>0</td>\n",
       "      <td>1</td>\n",
       "      <td>0</td>\n",
       "      <td>1</td>\n",
       "      <td>0</td>\n",
       "      <td>0</td>\n",
       "      <td>0</td>\n",
       "      <td>0</td>\n",
       "      <td>5</td>\n",
       "      <td>7.2500</td>\n",
       "    </tr>\n",
       "    <tr>\n",
       "      <th>1</th>\n",
       "      <td>38.000000</td>\n",
       "      <td>C85</td>\n",
       "      <td>0</td>\n",
       "      <td>1</td>\n",
       "      <td>1</td>\n",
       "      <td>1</td>\n",
       "      <td>1</td>\n",
       "      <td>0</td>\n",
       "      <td>0</td>\n",
       "      <td>1</td>\n",
       "      <td>1</td>\n",
       "      <td>0</td>\n",
       "      <td>1</td>\n",
       "      <td>0</td>\n",
       "      <td>1</td>\n",
       "      <td>0</td>\n",
       "      <td>0</td>\n",
       "      <td>0</td>\n",
       "      <td>1</td>\n",
       "      <td>71.2833</td>\n",
       "    </tr>\n",
       "    <tr>\n",
       "      <th>2</th>\n",
       "      <td>26.000000</td>\n",
       "      <td>U0</td>\n",
       "      <td>0</td>\n",
       "      <td>3</td>\n",
       "      <td>0</td>\n",
       "      <td>1</td>\n",
       "      <td>0</td>\n",
       "      <td>0</td>\n",
       "      <td>1</td>\n",
       "      <td>0</td>\n",
       "      <td>2</td>\n",
       "      <td>0</td>\n",
       "      <td>2</td>\n",
       "      <td>0</td>\n",
       "      <td>0</td>\n",
       "      <td>1</td>\n",
       "      <td>0</td>\n",
       "      <td>0</td>\n",
       "      <td>5</td>\n",
       "      <td>7.9250</td>\n",
       "    </tr>\n",
       "    <tr>\n",
       "      <th>3</th>\n",
       "      <td>35.000000</td>\n",
       "      <td>C123</td>\n",
       "      <td>0</td>\n",
       "      <td>1</td>\n",
       "      <td>1</td>\n",
       "      <td>1</td>\n",
       "      <td>0</td>\n",
       "      <td>0</td>\n",
       "      <td>1</td>\n",
       "      <td>1</td>\n",
       "      <td>1</td>\n",
       "      <td>0</td>\n",
       "      <td>1</td>\n",
       "      <td>0</td>\n",
       "      <td>1</td>\n",
       "      <td>0</td>\n",
       "      <td>0</td>\n",
       "      <td>0</td>\n",
       "      <td>1</td>\n",
       "      <td>53.1000</td>\n",
       "    </tr>\n",
       "    <tr>\n",
       "      <th>4</th>\n",
       "      <td>35.000000</td>\n",
       "      <td>U0</td>\n",
       "      <td>0</td>\n",
       "      <td>3</td>\n",
       "      <td>0</td>\n",
       "      <td>0</td>\n",
       "      <td>0</td>\n",
       "      <td>0</td>\n",
       "      <td>1</td>\n",
       "      <td>0</td>\n",
       "      <td>0</td>\n",
       "      <td>1</td>\n",
       "      <td>2</td>\n",
       "      <td>0</td>\n",
       "      <td>0</td>\n",
       "      <td>1</td>\n",
       "      <td>0</td>\n",
       "      <td>0</td>\n",
       "      <td>5</td>\n",
       "      <td>8.0500</td>\n",
       "    </tr>\n",
       "    <tr>\n",
       "      <th>5</th>\n",
       "      <td>30.956315</td>\n",
       "      <td>U0</td>\n",
       "      <td>0</td>\n",
       "      <td>3</td>\n",
       "      <td>0</td>\n",
       "      <td>0</td>\n",
       "      <td>0</td>\n",
       "      <td>1</td>\n",
       "      <td>0</td>\n",
       "      <td>0</td>\n",
       "      <td>0</td>\n",
       "      <td>1</td>\n",
       "      <td>2</td>\n",
       "      <td>0</td>\n",
       "      <td>0</td>\n",
       "      <td>1</td>\n",
       "      <td>0</td>\n",
       "      <td>0</td>\n",
       "      <td>5</td>\n",
       "      <td>8.4583</td>\n",
       "    </tr>\n",
       "    <tr>\n",
       "      <th>6</th>\n",
       "      <td>54.000000</td>\n",
       "      <td>E46</td>\n",
       "      <td>0</td>\n",
       "      <td>1</td>\n",
       "      <td>0</td>\n",
       "      <td>0</td>\n",
       "      <td>0</td>\n",
       "      <td>0</td>\n",
       "      <td>1</td>\n",
       "      <td>2</td>\n",
       "      <td>0</td>\n",
       "      <td>1</td>\n",
       "      <td>1</td>\n",
       "      <td>0</td>\n",
       "      <td>1</td>\n",
       "      <td>0</td>\n",
       "      <td>0</td>\n",
       "      <td>0</td>\n",
       "      <td>1</td>\n",
       "      <td>51.8625</td>\n",
       "    </tr>\n",
       "    <tr>\n",
       "      <th>7</th>\n",
       "      <td>2.000000</td>\n",
       "      <td>U0</td>\n",
       "      <td>1</td>\n",
       "      <td>3</td>\n",
       "      <td>3</td>\n",
       "      <td>0</td>\n",
       "      <td>0</td>\n",
       "      <td>0</td>\n",
       "      <td>1</td>\n",
       "      <td>0</td>\n",
       "      <td>3</td>\n",
       "      <td>1</td>\n",
       "      <td>3</td>\n",
       "      <td>0</td>\n",
       "      <td>0</td>\n",
       "      <td>0</td>\n",
       "      <td>1</td>\n",
       "      <td>0</td>\n",
       "      <td>4</td>\n",
       "      <td>21.0750</td>\n",
       "    </tr>\n",
       "    <tr>\n",
       "      <th>8</th>\n",
       "      <td>27.000000</td>\n",
       "      <td>U0</td>\n",
       "      <td>2</td>\n",
       "      <td>3</td>\n",
       "      <td>0</td>\n",
       "      <td>1</td>\n",
       "      <td>0</td>\n",
       "      <td>0</td>\n",
       "      <td>1</td>\n",
       "      <td>0</td>\n",
       "      <td>1</td>\n",
       "      <td>0</td>\n",
       "      <td>3</td>\n",
       "      <td>0</td>\n",
       "      <td>0</td>\n",
       "      <td>0</td>\n",
       "      <td>1</td>\n",
       "      <td>0</td>\n",
       "      <td>5</td>\n",
       "      <td>11.1333</td>\n",
       "    </tr>\n",
       "    <tr>\n",
       "      <th>9</th>\n",
       "      <td>14.000000</td>\n",
       "      <td>U0</td>\n",
       "      <td>0</td>\n",
       "      <td>2</td>\n",
       "      <td>1</td>\n",
       "      <td>1</td>\n",
       "      <td>1</td>\n",
       "      <td>0</td>\n",
       "      <td>0</td>\n",
       "      <td>0</td>\n",
       "      <td>1</td>\n",
       "      <td>0</td>\n",
       "      <td>4</td>\n",
       "      <td>0</td>\n",
       "      <td>0</td>\n",
       "      <td>0</td>\n",
       "      <td>0</td>\n",
       "      <td>1</td>\n",
       "      <td>2</td>\n",
       "      <td>30.0708</td>\n",
       "    </tr>\n",
       "  </tbody>\n",
       "</table>\n",
       "</div>"
      ],
      "text/plain": [
       "         Age Cabin  Parch  Pclass  SibSp  Survived  C  Q  S  Cabin_letter  \\\n",
       "0  22.000000    U0      0       3      1         0  0  0  1             0   \n",
       "1  38.000000   C85      0       1      1         1  1  0  0             1   \n",
       "2  26.000000    U0      0       3      0         1  0  0  1             0   \n",
       "3  35.000000  C123      0       1      1         1  0  0  1             1   \n",
       "4  35.000000    U0      0       3      0         0  0  0  1             0   \n",
       "5  30.956315    U0      0       3      0         0  0  1  0             0   \n",
       "6  54.000000   E46      0       1      0         0  0  0  1             2   \n",
       "7   2.000000    U0      1       3      3         0  0  0  1             0   \n",
       "8  27.000000    U0      2       3      0         1  0  0  1             0   \n",
       "9  14.000000    U0      0       2      1         1  1  0  0             0   \n",
       "\n",
       "   title  sex  Fare_bin_id  Fare_0  Fare_1  Fare_2  Fare_3  Fare_4  \\\n",
       "0      0    1            0       1       0       0       0       0   \n",
       "1      1    0            1       0       1       0       0       0   \n",
       "2      2    0            2       0       0       1       0       0   \n",
       "3      1    0            1       0       1       0       0       0   \n",
       "4      0    1            2       0       0       1       0       0   \n",
       "5      0    1            2       0       0       1       0       0   \n",
       "6      0    1            1       0       1       0       0       0   \n",
       "7      3    1            3       0       0       0       1       0   \n",
       "8      1    0            3       0       0       0       1       0   \n",
       "9      1    0            4       0       0       0       0       1   \n",
       "\n",
       "   Pclass_Fare_Category2     Fare  \n",
       "0                      5   7.2500  \n",
       "1                      1  71.2833  \n",
       "2                      5   7.9250  \n",
       "3                      1  53.1000  \n",
       "4                      5   8.0500  \n",
       "5                      5   8.4583  \n",
       "6                      1  51.8625  \n",
       "7                      4  21.0750  \n",
       "8                      5  11.1333  \n",
       "9                      2  30.0708  "
      ]
     },
     "execution_count": 4,
     "metadata": {},
     "output_type": "execute_result"
    }
   ],
   "source": [
    "full_op.head(10)"
   ]
  },
  {
   "cell_type": "code",
   "execution_count": 5,
   "metadata": {
    "ExecuteTime": {
     "end_time": "2019-12-01T20:04:49.598015Z",
     "start_time": "2019-12-01T20:04:49.589037Z"
    }
   },
   "outputs": [],
   "source": [
    "scale_fare_age = StandardScaler().fit(full_op[['Age', 'Fare']])"
   ]
  },
  {
   "cell_type": "code",
   "execution_count": 6,
   "metadata": {
    "ExecuteTime": {
     "end_time": "2019-12-01T20:04:50.599743Z",
     "start_time": "2019-12-01T20:04:50.592761Z"
    }
   },
   "outputs": [],
   "source": [
    "full_op[['Age', 'Fare']] = scale_fare_age.transform(full_op[['Age', 'Fare']])"
   ]
  },
  {
   "cell_type": "code",
   "execution_count": 7,
   "metadata": {
    "ExecuteTime": {
     "end_time": "2019-12-01T20:04:52.455832Z",
     "start_time": "2019-12-01T20:04:52.440937Z"
    }
   },
   "outputs": [
    {
     "data": {
      "text/html": [
       "<div>\n",
       "<style scoped>\n",
       "    .dataframe tbody tr th:only-of-type {\n",
       "        vertical-align: middle;\n",
       "    }\n",
       "\n",
       "    .dataframe tbody tr th {\n",
       "        vertical-align: top;\n",
       "    }\n",
       "\n",
       "    .dataframe thead th {\n",
       "        text-align: right;\n",
       "    }\n",
       "</style>\n",
       "<table border=\"1\" class=\"dataframe\">\n",
       "  <thead>\n",
       "    <tr style=\"text-align: right;\">\n",
       "      <th></th>\n",
       "      <th>Age</th>\n",
       "      <th>Cabin</th>\n",
       "      <th>Parch</th>\n",
       "      <th>Pclass</th>\n",
       "      <th>SibSp</th>\n",
       "      <th>Survived</th>\n",
       "      <th>C</th>\n",
       "      <th>Q</th>\n",
       "      <th>S</th>\n",
       "      <th>Cabin_letter</th>\n",
       "      <th>title</th>\n",
       "      <th>sex</th>\n",
       "      <th>Fare_bin_id</th>\n",
       "      <th>Fare_0</th>\n",
       "      <th>Fare_1</th>\n",
       "      <th>Fare_2</th>\n",
       "      <th>Fare_3</th>\n",
       "      <th>Fare_4</th>\n",
       "      <th>Pclass_Fare_Category2</th>\n",
       "      <th>Fare</th>\n",
       "    </tr>\n",
       "  </thead>\n",
       "  <tbody>\n",
       "    <tr>\n",
       "      <th>0</th>\n",
       "      <td>-0.569648</td>\n",
       "      <td>U0</td>\n",
       "      <td>0</td>\n",
       "      <td>3</td>\n",
       "      <td>1</td>\n",
       "      <td>0</td>\n",
       "      <td>0</td>\n",
       "      <td>0</td>\n",
       "      <td>1</td>\n",
       "      <td>0</td>\n",
       "      <td>0</td>\n",
       "      <td>1</td>\n",
       "      <td>0</td>\n",
       "      <td>1</td>\n",
       "      <td>0</td>\n",
       "      <td>0</td>\n",
       "      <td>0</td>\n",
       "      <td>0</td>\n",
       "      <td>5</td>\n",
       "      <td>-0.503402</td>\n",
       "    </tr>\n",
       "    <tr>\n",
       "      <th>1</th>\n",
       "      <td>0.621286</td>\n",
       "      <td>C85</td>\n",
       "      <td>0</td>\n",
       "      <td>1</td>\n",
       "      <td>1</td>\n",
       "      <td>1</td>\n",
       "      <td>1</td>\n",
       "      <td>0</td>\n",
       "      <td>0</td>\n",
       "      <td>1</td>\n",
       "      <td>1</td>\n",
       "      <td>0</td>\n",
       "      <td>1</td>\n",
       "      <td>0</td>\n",
       "      <td>1</td>\n",
       "      <td>0</td>\n",
       "      <td>0</td>\n",
       "      <td>0</td>\n",
       "      <td>1</td>\n",
       "      <td>0.734222</td>\n",
       "    </tr>\n",
       "    <tr>\n",
       "      <th>2</th>\n",
       "      <td>-0.271915</td>\n",
       "      <td>U0</td>\n",
       "      <td>0</td>\n",
       "      <td>3</td>\n",
       "      <td>0</td>\n",
       "      <td>1</td>\n",
       "      <td>0</td>\n",
       "      <td>0</td>\n",
       "      <td>1</td>\n",
       "      <td>0</td>\n",
       "      <td>2</td>\n",
       "      <td>0</td>\n",
       "      <td>2</td>\n",
       "      <td>0</td>\n",
       "      <td>0</td>\n",
       "      <td>1</td>\n",
       "      <td>0</td>\n",
       "      <td>0</td>\n",
       "      <td>5</td>\n",
       "      <td>-0.490356</td>\n",
       "    </tr>\n",
       "    <tr>\n",
       "      <th>3</th>\n",
       "      <td>0.397986</td>\n",
       "      <td>C123</td>\n",
       "      <td>0</td>\n",
       "      <td>1</td>\n",
       "      <td>1</td>\n",
       "      <td>1</td>\n",
       "      <td>0</td>\n",
       "      <td>0</td>\n",
       "      <td>1</td>\n",
       "      <td>1</td>\n",
       "      <td>1</td>\n",
       "      <td>0</td>\n",
       "      <td>1</td>\n",
       "      <td>0</td>\n",
       "      <td>1</td>\n",
       "      <td>0</td>\n",
       "      <td>0</td>\n",
       "      <td>0</td>\n",
       "      <td>1</td>\n",
       "      <td>0.382778</td>\n",
       "    </tr>\n",
       "    <tr>\n",
       "      <th>4</th>\n",
       "      <td>0.397986</td>\n",
       "      <td>U0</td>\n",
       "      <td>0</td>\n",
       "      <td>3</td>\n",
       "      <td>0</td>\n",
       "      <td>0</td>\n",
       "      <td>0</td>\n",
       "      <td>0</td>\n",
       "      <td>1</td>\n",
       "      <td>0</td>\n",
       "      <td>0</td>\n",
       "      <td>1</td>\n",
       "      <td>2</td>\n",
       "      <td>0</td>\n",
       "      <td>0</td>\n",
       "      <td>1</td>\n",
       "      <td>0</td>\n",
       "      <td>0</td>\n",
       "      <td>5</td>\n",
       "      <td>-0.487940</td>\n",
       "    </tr>\n",
       "    <tr>\n",
       "      <th>5</th>\n",
       "      <td>0.097001</td>\n",
       "      <td>U0</td>\n",
       "      <td>0</td>\n",
       "      <td>3</td>\n",
       "      <td>0</td>\n",
       "      <td>0</td>\n",
       "      <td>0</td>\n",
       "      <td>1</td>\n",
       "      <td>0</td>\n",
       "      <td>0</td>\n",
       "      <td>0</td>\n",
       "      <td>1</td>\n",
       "      <td>2</td>\n",
       "      <td>0</td>\n",
       "      <td>0</td>\n",
       "      <td>1</td>\n",
       "      <td>0</td>\n",
       "      <td>0</td>\n",
       "      <td>5</td>\n",
       "      <td>-0.480049</td>\n",
       "    </tr>\n",
       "    <tr>\n",
       "      <th>6</th>\n",
       "      <td>1.812220</td>\n",
       "      <td>E46</td>\n",
       "      <td>0</td>\n",
       "      <td>1</td>\n",
       "      <td>0</td>\n",
       "      <td>0</td>\n",
       "      <td>0</td>\n",
       "      <td>0</td>\n",
       "      <td>1</td>\n",
       "      <td>2</td>\n",
       "      <td>0</td>\n",
       "      <td>1</td>\n",
       "      <td>1</td>\n",
       "      <td>0</td>\n",
       "      <td>1</td>\n",
       "      <td>0</td>\n",
       "      <td>0</td>\n",
       "      <td>0</td>\n",
       "      <td>1</td>\n",
       "      <td>0.358860</td>\n",
       "    </tr>\n",
       "    <tr>\n",
       "      <th>7</th>\n",
       "      <td>-2.058315</td>\n",
       "      <td>U0</td>\n",
       "      <td>1</td>\n",
       "      <td>3</td>\n",
       "      <td>3</td>\n",
       "      <td>0</td>\n",
       "      <td>0</td>\n",
       "      <td>0</td>\n",
       "      <td>1</td>\n",
       "      <td>0</td>\n",
       "      <td>3</td>\n",
       "      <td>1</td>\n",
       "      <td>3</td>\n",
       "      <td>0</td>\n",
       "      <td>0</td>\n",
       "      <td>0</td>\n",
       "      <td>1</td>\n",
       "      <td>0</td>\n",
       "      <td>4</td>\n",
       "      <td>-0.236195</td>\n",
       "    </tr>\n",
       "  </tbody>\n",
       "</table>\n",
       "</div>"
      ],
      "text/plain": [
       "        Age Cabin  Parch  Pclass  SibSp  Survived  C  Q  S  Cabin_letter  \\\n",
       "0 -0.569648    U0      0       3      1         0  0  0  1             0   \n",
       "1  0.621286   C85      0       1      1         1  1  0  0             1   \n",
       "2 -0.271915    U0      0       3      0         1  0  0  1             0   \n",
       "3  0.397986  C123      0       1      1         1  0  0  1             1   \n",
       "4  0.397986    U0      0       3      0         0  0  0  1             0   \n",
       "5  0.097001    U0      0       3      0         0  0  1  0             0   \n",
       "6  1.812220   E46      0       1      0         0  0  0  1             2   \n",
       "7 -2.058315    U0      1       3      3         0  0  0  1             0   \n",
       "\n",
       "   title  sex  Fare_bin_id  Fare_0  Fare_1  Fare_2  Fare_3  Fare_4  \\\n",
       "0      0    1            0       1       0       0       0       0   \n",
       "1      1    0            1       0       1       0       0       0   \n",
       "2      2    0            2       0       0       1       0       0   \n",
       "3      1    0            1       0       1       0       0       0   \n",
       "4      0    1            2       0       0       1       0       0   \n",
       "5      0    1            2       0       0       1       0       0   \n",
       "6      0    1            1       0       1       0       0       0   \n",
       "7      3    1            3       0       0       0       1       0   \n",
       "\n",
       "   Pclass_Fare_Category2      Fare  \n",
       "0                      5 -0.503402  \n",
       "1                      1  0.734222  \n",
       "2                      5 -0.490356  \n",
       "3                      1  0.382778  \n",
       "4                      5 -0.487940  \n",
       "5                      5 -0.480049  \n",
       "6                      1  0.358860  \n",
       "7                      4 -0.236195  "
      ]
     },
     "execution_count": 7,
     "metadata": {},
     "output_type": "execute_result"
    }
   ],
   "source": [
    "full_op.head(8)"
   ]
  },
  {
   "cell_type": "code",
   "execution_count": 8,
   "metadata": {
    "ExecuteTime": {
     "end_time": "2019-12-01T20:04:54.568649Z",
     "start_time": "2019-12-01T20:04:54.563665Z"
    }
   },
   "outputs": [],
   "source": [
    "op_backup = full_op"
   ]
  },
  {
   "cell_type": "code",
   "execution_count": 9,
   "metadata": {
    "ExecuteTime": {
     "end_time": "2019-12-01T20:04:59.046065Z",
     "start_time": "2019-12-01T20:04:59.040080Z"
    }
   },
   "outputs": [],
   "source": [
    "full_op.drop(['Cabin'], axis = 1, inplace=True)"
   ]
  },
  {
   "cell_type": "code",
   "execution_count": 10,
   "metadata": {
    "ExecuteTime": {
     "end_time": "2019-12-01T20:05:00.059958Z",
     "start_time": "2019-12-01T20:05:00.054933Z"
    }
   },
   "outputs": [
    {
     "data": {
      "text/plain": [
       "1309"
      ]
     },
     "execution_count": 10,
     "metadata": {},
     "output_type": "execute_result"
    }
   ],
   "source": [
    "len(full_op)"
   ]
  },
  {
   "cell_type": "code",
   "execution_count": 11,
   "metadata": {
    "ExecuteTime": {
     "end_time": "2019-12-01T20:05:01.785584Z",
     "start_time": "2019-12-01T20:05:01.780635Z"
    }
   },
   "outputs": [],
   "source": [
    "train_set = full_op[:891]\n",
    "test_set = full_op[891:]"
   ]
  },
  {
   "cell_type": "code",
   "execution_count": 12,
   "metadata": {
    "ExecuteTime": {
     "end_time": "2019-12-01T20:05:02.713307Z",
     "start_time": "2019-12-01T20:05:02.707324Z"
    }
   },
   "outputs": [
    {
     "data": {
      "text/plain": [
       "19"
      ]
     },
     "execution_count": 12,
     "metadata": {},
     "output_type": "execute_result"
    }
   ],
   "source": [
    "len(test_set.columns)"
   ]
  },
  {
   "cell_type": "code",
   "execution_count": 13,
   "metadata": {
    "ExecuteTime": {
     "end_time": "2019-12-01T20:05:04.552450Z",
     "start_time": "2019-12-01T20:05:04.545465Z"
    }
   },
   "outputs": [],
   "source": [
    "X_train = train_set.drop('Survived', axis = 1)\n",
    "y_train = train_set['Survived']\n",
    "X_test = test_set.drop('Survived', axis=1)"
   ]
  },
  {
   "cell_type": "code",
   "execution_count": 14,
   "metadata": {
    "ExecuteTime": {
     "end_time": "2019-12-01T20:05:06.571728Z",
     "start_time": "2019-12-01T20:05:06.260171Z"
    }
   },
   "outputs": [],
   "source": [
    "from sklearn.ensemble import RandomForestClassifier\n",
    "from sklearn.model_selection import GridSearchCV"
   ]
  },
  {
   "cell_type": "code",
   "execution_count": 15,
   "metadata": {
    "ExecuteTime": {
     "end_time": "2019-12-01T20:05:08.028891Z",
     "start_time": "2019-12-01T20:05:08.022874Z"
    }
   },
   "outputs": [],
   "source": [
    "RF_para_grid = {'n_estimators' : [200, 250, 300, 350, 400], \n",
    "                'criterion': ['entropy'],\n",
    "                'max_depth' : [6, 8, 9, 10],\n",
    "                'max_features': ['auto',5,6,7,8]}"
   ]
  },
  {
   "cell_type": "code",
   "execution_count": 52,
   "metadata": {
    "ExecuteTime": {
     "end_time": "2019-11-30T22:31:25.933840Z",
     "start_time": "2019-11-30T22:31:25.929852Z"
    }
   },
   "outputs": [],
   "source": [
    "RFC = RandomForestClassifier()"
   ]
  },
  {
   "cell_type": "code",
   "execution_count": 53,
   "metadata": {
    "ExecuteTime": {
     "end_time": "2019-11-30T22:31:27.297479Z",
     "start_time": "2019-11-30T22:31:27.292492Z"
    }
   },
   "outputs": [],
   "source": [
    "RF_Grid = GridSearchCV(RFC, RF_para_grid, cv=5, n_jobs=5, verbose=1, scoring = 'accuracy')"
   ]
  },
  {
   "cell_type": "code",
   "execution_count": 54,
   "metadata": {
    "ExecuteTime": {
     "end_time": "2019-11-30T22:32:39.294591Z",
     "start_time": "2019-11-30T22:31:29.470570Z"
    }
   },
   "outputs": [
    {
     "name": "stdout",
     "output_type": "stream",
     "text": [
      "Fitting 5 folds for each of 100 candidates, totalling 500 fits\n"
     ]
    },
    {
     "name": "stderr",
     "output_type": "stream",
     "text": [
      "[Parallel(n_jobs=5)]: Using backend LokyBackend with 5 concurrent workers.\n",
      "[Parallel(n_jobs=5)]: Done  40 tasks      | elapsed:    7.2s\n",
      "[Parallel(n_jobs=5)]: Done 190 tasks      | elapsed:   22.8s\n",
      "[Parallel(n_jobs=5)]: Done 440 tasks      | elapsed:   57.0s\n",
      "[Parallel(n_jobs=5)]: Done 500 out of 500 | elapsed:  1.2min finished\n"
     ]
    },
    {
     "data": {
      "text/plain": [
       "GridSearchCV(cv=5, error_score='raise-deprecating',\n",
       "       estimator=RandomForestClassifier(bootstrap=True, class_weight=None, criterion='gini',\n",
       "            max_depth=None, max_features='auto', max_leaf_nodes=None,\n",
       "            min_impurity_decrease=0.0, min_impurity_split=None,\n",
       "            min_samples_leaf=1, min_samples_split=2,\n",
       "            min_weight_fraction_leaf=0.0, n_estimators='warn', n_jobs=None,\n",
       "            oob_score=False, random_state=None, verbose=0,\n",
       "            warm_start=False),\n",
       "       fit_params=None, iid='warn', n_jobs=5,\n",
       "       param_grid={'n_estimators': [200, 250, 300, 350, 400], 'criterion': ['entropy'], 'max_depth': [6, 8, 9, 10], 'max_features': ['auto', 5, 6, 7, 8]},\n",
       "       pre_dispatch='2*n_jobs', refit=True, return_train_score='warn',\n",
       "       scoring='accuracy', verbose=1)"
      ]
     },
     "execution_count": 54,
     "metadata": {},
     "output_type": "execute_result"
    }
   ],
   "source": [
    "RF_Grid.fit(X_train, y_train)"
   ]
  },
  {
   "cell_type": "code",
   "execution_count": 55,
   "metadata": {
    "ExecuteTime": {
     "end_time": "2019-11-30T22:36:31.825405Z",
     "start_time": "2019-11-30T22:36:31.816464Z"
    }
   },
   "outputs": [
    {
     "name": "stdout",
     "output_type": "stream",
     "text": [
      "RF Best Parameters: {'criterion': 'entropy', 'max_depth': 8, 'max_features': 7, 'n_estimators': 300}\n"
     ]
    }
   ],
   "source": [
    "print('RF Best Parameters: ' + str(RF_Grid.best_params_))"
   ]
  },
  {
   "cell_type": "code",
   "execution_count": 56,
   "metadata": {
    "ExecuteTime": {
     "end_time": "2019-11-30T22:36:33.420552Z",
     "start_time": "2019-11-30T22:36:33.414543Z"
    }
   },
   "outputs": [
    {
     "name": "stdout",
     "output_type": "stream",
     "text": [
      "RF Best Score: 0.8372615039281706\n"
     ]
    }
   ],
   "source": [
    "print('RF Best Score: '+ str(RF_Grid.best_score_))"
   ]
  },
  {
   "cell_type": "code",
   "execution_count": 57,
   "metadata": {
    "ExecuteTime": {
     "end_time": "2019-11-30T22:36:39.616721Z",
     "start_time": "2019-11-30T22:36:39.607746Z"
    }
   },
   "outputs": [
    {
     "name": "stderr",
     "output_type": "stream",
     "text": [
      "C:\\Users\\naive\\Anaconda3\\lib\\site-packages\\sklearn\\utils\\deprecation.py:125: FutureWarning: You are accessing a training score ('split0_train_score'), which will not be available by default any more in 0.21. If you need training scores, please set return_train_score=True\n",
      "  warnings.warn(*warn_args, **warn_kwargs)\n",
      "C:\\Users\\naive\\Anaconda3\\lib\\site-packages\\sklearn\\utils\\deprecation.py:125: FutureWarning: You are accessing a training score ('split1_train_score'), which will not be available by default any more in 0.21. If you need training scores, please set return_train_score=True\n",
      "  warnings.warn(*warn_args, **warn_kwargs)\n",
      "C:\\Users\\naive\\Anaconda3\\lib\\site-packages\\sklearn\\utils\\deprecation.py:125: FutureWarning: You are accessing a training score ('split2_train_score'), which will not be available by default any more in 0.21. If you need training scores, please set return_train_score=True\n",
      "  warnings.warn(*warn_args, **warn_kwargs)\n",
      "C:\\Users\\naive\\Anaconda3\\lib\\site-packages\\sklearn\\utils\\deprecation.py:125: FutureWarning: You are accessing a training score ('split3_train_score'), which will not be available by default any more in 0.21. If you need training scores, please set return_train_score=True\n",
      "  warnings.warn(*warn_args, **warn_kwargs)\n",
      "C:\\Users\\naive\\Anaconda3\\lib\\site-packages\\sklearn\\utils\\deprecation.py:125: FutureWarning: You are accessing a training score ('split4_train_score'), which will not be available by default any more in 0.21. If you need training scores, please set return_train_score=True\n",
      "  warnings.warn(*warn_args, **warn_kwargs)\n",
      "C:\\Users\\naive\\Anaconda3\\lib\\site-packages\\sklearn\\utils\\deprecation.py:125: FutureWarning: You are accessing a training score ('mean_train_score'), which will not be available by default any more in 0.21. If you need training scores, please set return_train_score=True\n",
      "  warnings.warn(*warn_args, **warn_kwargs)\n",
      "C:\\Users\\naive\\Anaconda3\\lib\\site-packages\\sklearn\\utils\\deprecation.py:125: FutureWarning: You are accessing a training score ('std_train_score'), which will not be available by default any more in 0.21. If you need training scores, please set return_train_score=True\n",
      "  warnings.warn(*warn_args, **warn_kwargs)\n"
     ]
    }
   ],
   "source": [
    "RF_Model_Result = pd.DataFrame(RF_Grid.cv_results_)"
   ]
  },
  {
   "cell_type": "code",
   "execution_count": 58,
   "metadata": {
    "ExecuteTime": {
     "end_time": "2019-11-30T22:36:42.902109Z",
     "start_time": "2019-11-30T22:36:42.897160Z"
    }
   },
   "outputs": [],
   "source": [
    "RF_Model_Result.sort_values('rank_test_score', axis=0, ascending=True, inplace=True)"
   ]
  },
  {
   "cell_type": "code",
   "execution_count": 59,
   "metadata": {
    "ExecuteTime": {
     "end_time": "2019-11-30T22:36:44.253894Z",
     "start_time": "2019-11-30T22:36:44.243960Z"
    }
   },
   "outputs": [],
   "source": [
    "RF_Model_Result = RF_Model_Result[['params', 'rank_test_score', 'mean_test_score', 'mean_train_score']]"
   ]
  },
  {
   "cell_type": "code",
   "execution_count": 60,
   "metadata": {
    "ExecuteTime": {
     "end_time": "2019-11-30T22:36:45.562155Z",
     "start_time": "2019-11-30T22:36:45.549192Z"
    }
   },
   "outputs": [],
   "source": [
    "RF_Model_Result.to_csv('RF_MODEL_RESULT.csv')"
   ]
  },
  {
   "cell_type": "code",
   "execution_count": 29,
   "metadata": {
    "ExecuteTime": {
     "end_time": "2019-12-01T20:23:55.883395Z",
     "start_time": "2019-12-01T20:23:55.878359Z"
    }
   },
   "outputs": [],
   "source": [
    "from sklearn.externals import joblib"
   ]
  },
  {
   "cell_type": "code",
   "execution_count": 62,
   "metadata": {
    "ExecuteTime": {
     "end_time": "2019-11-30T22:39:53.539344Z",
     "start_time": "2019-11-30T22:39:53.326927Z"
    }
   },
   "outputs": [
    {
     "data": {
      "text/plain": [
       "['RF_BEST_MODEL.pkl']"
      ]
     },
     "execution_count": 62,
     "metadata": {},
     "output_type": "execute_result"
    }
   ],
   "source": [
    "joblib.dump(RF_Grid.best_estimator_, 'RF_BEST_MODEL.pkl')"
   ]
  },
  {
   "cell_type": "code",
   "execution_count": 20,
   "metadata": {
    "ExecuteTime": {
     "end_time": "2019-12-01T20:16:09.597309Z",
     "start_time": "2019-12-01T20:16:09.593292Z"
    }
   },
   "outputs": [],
   "source": [
    "from sklearn.ensemble import AdaBoostClassifier\n",
    "from sklearn.tree import DecisionTreeClassifier"
   ]
  },
  {
   "cell_type": "code",
   "execution_count": 21,
   "metadata": {
    "ExecuteTime": {
     "end_time": "2019-12-01T20:16:11.239395Z",
     "start_time": "2019-12-01T20:16:11.233412Z"
    }
   },
   "outputs": [],
   "source": [
    "Ada_para_grid = {'base_estimator': [DecisionTreeClassifier(max_depth = 3), DecisionTreeClassifier(max_depth = 5), DecisionTreeClassifier(max_depth=6)],\n",
    "                 'n_estimators' : [100, 150, 200],\n",
    "                 'learning_rate': [0.01, 0.1, 1, 5]}"
   ]
  },
  {
   "cell_type": "code",
   "execution_count": 22,
   "metadata": {
    "ExecuteTime": {
     "end_time": "2019-12-01T20:17:37.880668Z",
     "start_time": "2019-12-01T20:17:37.876679Z"
    }
   },
   "outputs": [],
   "source": [
    "ada = AdaBoostClassifier(random_state = 0)\n",
    "Ada_grid = GridSearchCV(ada, Ada_para_grid, cv = 5, n_jobs = 5, scoring = 'accuracy')"
   ]
  },
  {
   "cell_type": "code",
   "execution_count": 23,
   "metadata": {
    "ExecuteTime": {
     "end_time": "2019-12-01T20:18:09.110802Z",
     "start_time": "2019-12-01T20:17:52.969732Z"
    }
   },
   "outputs": [
    {
     "name": "stderr",
     "output_type": "stream",
     "text": [
      "C:\\Users\\naive\\Anaconda3\\lib\\site-packages\\sklearn\\model_selection\\_search.py:841: DeprecationWarning: The default of the `iid` parameter will change from True to False in version 0.22 and will be removed in 0.24. This will change numeric results when test-set sizes are unequal.\n",
      "  DeprecationWarning)\n"
     ]
    },
    {
     "data": {
      "text/plain": [
       "GridSearchCV(cv=5, error_score='raise-deprecating',\n",
       "       estimator=AdaBoostClassifier(algorithm='SAMME.R', base_estimator=None,\n",
       "          learning_rate=1.0, n_estimators=50, random_state=0),\n",
       "       fit_params=None, iid='warn', n_jobs=5,\n",
       "       param_grid={'base_estimator': [DecisionTreeClassifier(class_weight=None, criterion='gini', max_depth=3,\n",
       "            max_features=None, max_leaf_nodes=None,\n",
       "            min_impurity_decrease=0.0, min_impurity_split=None,\n",
       "            min_samples_leaf=1, min_samples_split=2,\n",
       "            min_weight_frac...\n",
       "            splitter='best')], 'n_estimators': [100, 150, 200], 'learning_rate': [0.01, 0.1, 1, 5]},\n",
       "       pre_dispatch='2*n_jobs', refit=True, return_train_score='warn',\n",
       "       scoring='accuracy', verbose=0)"
      ]
     },
     "execution_count": 23,
     "metadata": {},
     "output_type": "execute_result"
    }
   ],
   "source": [
    "Ada_grid.fit(X_train, y_train)"
   ]
  },
  {
   "cell_type": "code",
   "execution_count": 24,
   "metadata": {
    "ExecuteTime": {
     "end_time": "2019-12-01T20:18:56.401421Z",
     "start_time": "2019-12-01T20:18:56.392442Z"
    }
   },
   "outputs": [
    {
     "name": "stderr",
     "output_type": "stream",
     "text": [
      "C:\\Users\\naive\\Anaconda3\\lib\\site-packages\\sklearn\\utils\\deprecation.py:125: FutureWarning: You are accessing a training score ('split0_train_score'), which will not be available by default any more in 0.21. If you need training scores, please set return_train_score=True\n",
      "  warnings.warn(*warn_args, **warn_kwargs)\n",
      "C:\\Users\\naive\\Anaconda3\\lib\\site-packages\\sklearn\\utils\\deprecation.py:125: FutureWarning: You are accessing a training score ('split1_train_score'), which will not be available by default any more in 0.21. If you need training scores, please set return_train_score=True\n",
      "  warnings.warn(*warn_args, **warn_kwargs)\n",
      "C:\\Users\\naive\\Anaconda3\\lib\\site-packages\\sklearn\\utils\\deprecation.py:125: FutureWarning: You are accessing a training score ('split2_train_score'), which will not be available by default any more in 0.21. If you need training scores, please set return_train_score=True\n",
      "  warnings.warn(*warn_args, **warn_kwargs)\n",
      "C:\\Users\\naive\\Anaconda3\\lib\\site-packages\\sklearn\\utils\\deprecation.py:125: FutureWarning: You are accessing a training score ('split3_train_score'), which will not be available by default any more in 0.21. If you need training scores, please set return_train_score=True\n",
      "  warnings.warn(*warn_args, **warn_kwargs)\n",
      "C:\\Users\\naive\\Anaconda3\\lib\\site-packages\\sklearn\\utils\\deprecation.py:125: FutureWarning: You are accessing a training score ('split4_train_score'), which will not be available by default any more in 0.21. If you need training scores, please set return_train_score=True\n",
      "  warnings.warn(*warn_args, **warn_kwargs)\n",
      "C:\\Users\\naive\\Anaconda3\\lib\\site-packages\\sklearn\\utils\\deprecation.py:125: FutureWarning: You are accessing a training score ('mean_train_score'), which will not be available by default any more in 0.21. If you need training scores, please set return_train_score=True\n",
      "  warnings.warn(*warn_args, **warn_kwargs)\n",
      "C:\\Users\\naive\\Anaconda3\\lib\\site-packages\\sklearn\\utils\\deprecation.py:125: FutureWarning: You are accessing a training score ('std_train_score'), which will not be available by default any more in 0.21. If you need training scores, please set return_train_score=True\n",
      "  warnings.warn(*warn_args, **warn_kwargs)\n"
     ]
    }
   ],
   "source": [
    "Ada_result = pd.DataFrame(Ada_grid.cv_results_)"
   ]
  },
  {
   "cell_type": "code",
   "execution_count": 26,
   "metadata": {
    "ExecuteTime": {
     "end_time": "2019-12-01T20:20:03.985303Z",
     "start_time": "2019-12-01T20:20:03.975333Z"
    }
   },
   "outputs": [],
   "source": [
    "Ada_result.sort_values('rank_test_score', axis=0, ascending=True, inplace=True)"
   ]
  },
  {
   "cell_type": "code",
   "execution_count": 27,
   "metadata": {
    "ExecuteTime": {
     "end_time": "2019-12-01T20:20:32.578910Z",
     "start_time": "2019-12-01T20:20:32.567937Z"
    }
   },
   "outputs": [],
   "source": [
    "Ada_result = Ada_result[['params', 'rank_test_score', 'mean_test_score', 'mean_train_score']]"
   ]
  },
  {
   "cell_type": "code",
   "execution_count": 28,
   "metadata": {
    "ExecuteTime": {
     "end_time": "2019-12-01T20:20:47.644996Z",
     "start_time": "2019-12-01T20:20:47.628042Z"
    }
   },
   "outputs": [],
   "source": [
    "Ada_result.to_csv('Ada_result.csv')"
   ]
  },
  {
   "cell_type": "code",
   "execution_count": 30,
   "metadata": {
    "ExecuteTime": {
     "end_time": "2019-12-01T20:24:32.343702Z",
     "start_time": "2019-12-01T20:24:32.186554Z"
    }
   },
   "outputs": [
    {
     "data": {
      "text/plain": [
       "['ADA_BEST_MODEL.pkl']"
      ]
     },
     "execution_count": 30,
     "metadata": {},
     "output_type": "execute_result"
    }
   ],
   "source": [
    "joblib.dump(Ada_grid.best_estimator_, 'ADA_BEST_MODEL.pkl')"
   ]
  },
  {
   "cell_type": "code",
   "execution_count": 31,
   "metadata": {
    "ExecuteTime": {
     "end_time": "2019-12-01T20:25:18.227699Z",
     "start_time": "2019-12-01T20:25:18.220717Z"
    }
   },
   "outputs": [],
   "source": [
    "from sklearn.ensemble import GradientBoostingClassifier"
   ]
  },
  {
   "cell_type": "code",
   "execution_count": 50,
   "metadata": {
    "ExecuteTime": {
     "end_time": "2019-12-01T20:37:43.817943Z",
     "start_time": "2019-12-01T20:37:43.811923Z"
    }
   },
   "outputs": [],
   "source": [
    "GBC_Grid_param = [{'learning_rate' : [0.01, 0.1, 1],\n",
    "                  'n_estimators' : [150, 200, 300, 350],\n",
    "                  'max_depth': [5, 6, 7],\n",
    "                  'max_features': ['auto', 6,7,9]},\n",
    "                 {'learning_rate' : [0.01, 0.1, 1],\n",
    "                  'n_estimators' : [150, 200, 300, 350],\n",
    "                  'max_depth': [5, 6, 7],\n",
    "                  'max_features': ['auto', 6,7,9]}\n",
    "                 ]"
   ]
  },
  {
   "cell_type": "code",
   "execution_count": 51,
   "metadata": {
    "ExecuteTime": {
     "end_time": "2019-12-01T20:42:18.554458Z",
     "start_time": "2019-12-01T20:38:51.273286Z"
    }
   },
   "outputs": [
    {
     "name": "stderr",
     "output_type": "stream",
     "text": [
      "C:\\Users\\naive\\Anaconda3\\lib\\site-packages\\sklearn\\model_selection\\_search.py:841: DeprecationWarning: The default of the `iid` parameter will change from True to False in version 0.22 and will be removed in 0.24. This will change numeric results when test-set sizes are unequal.\n",
      "  DeprecationWarning)\n",
      "C:\\Users\\naive\\Anaconda3\\lib\\site-packages\\sklearn\\utils\\deprecation.py:125: FutureWarning: You are accessing a training score ('split0_train_score'), which will not be available by default any more in 0.21. If you need training scores, please set return_train_score=True\n",
      "  warnings.warn(*warn_args, **warn_kwargs)\n",
      "C:\\Users\\naive\\Anaconda3\\lib\\site-packages\\sklearn\\utils\\deprecation.py:125: FutureWarning: You are accessing a training score ('split1_train_score'), which will not be available by default any more in 0.21. If you need training scores, please set return_train_score=True\n",
      "  warnings.warn(*warn_args, **warn_kwargs)\n",
      "C:\\Users\\naive\\Anaconda3\\lib\\site-packages\\sklearn\\utils\\deprecation.py:125: FutureWarning: You are accessing a training score ('split2_train_score'), which will not be available by default any more in 0.21. If you need training scores, please set return_train_score=True\n",
      "  warnings.warn(*warn_args, **warn_kwargs)\n",
      "C:\\Users\\naive\\Anaconda3\\lib\\site-packages\\sklearn\\utils\\deprecation.py:125: FutureWarning: You are accessing a training score ('split3_train_score'), which will not be available by default any more in 0.21. If you need training scores, please set return_train_score=True\n",
      "  warnings.warn(*warn_args, **warn_kwargs)\n",
      "C:\\Users\\naive\\Anaconda3\\lib\\site-packages\\sklearn\\utils\\deprecation.py:125: FutureWarning: You are accessing a training score ('split4_train_score'), which will not be available by default any more in 0.21. If you need training scores, please set return_train_score=True\n",
      "  warnings.warn(*warn_args, **warn_kwargs)\n",
      "C:\\Users\\naive\\Anaconda3\\lib\\site-packages\\sklearn\\utils\\deprecation.py:125: FutureWarning: You are accessing a training score ('mean_train_score'), which will not be available by default any more in 0.21. If you need training scores, please set return_train_score=True\n",
      "  warnings.warn(*warn_args, **warn_kwargs)\n",
      "C:\\Users\\naive\\Anaconda3\\lib\\site-packages\\sklearn\\utils\\deprecation.py:125: FutureWarning: You are accessing a training score ('std_train_score'), which will not be available by default any more in 0.21. If you need training scores, please set return_train_score=True\n",
      "  warnings.warn(*warn_args, **warn_kwargs)\n"
     ]
    }
   ],
   "source": [
    "gbc = GradientBoostingClassifier(random_state = 0 )\n",
    "GBC_grid = GridSearchCV(gbc, GBC_Grid_param, cv = 5, n_jobs = 5, scoring = 'accuracy')\n",
    "GBC_grid.fit(X_train, y_train)\n",
    "GBC_result = pd.DataFrame(GBC_grid.cv_results_)\n",
    "GBC_result.sort_values('rank_test_score', axis=0, ascending=True, inplace=True)\n",
    "GBC_result = GBC_result[['params', 'rank_test_score', 'mean_test_score', 'mean_train_score']]\n",
    "GBC_result.to_csv('GBC_Model_result.csv')"
   ]
  },
  {
   "cell_type": "code",
   "execution_count": 52,
   "metadata": {
    "ExecuteTime": {
     "end_time": "2019-12-01T21:21:51.306018Z",
     "start_time": "2019-12-01T21:21:50.911823Z"
    }
   },
   "outputs": [
    {
     "data": {
      "text/plain": [
       "['GBC_MODEL.pkl']"
      ]
     },
     "execution_count": 52,
     "metadata": {},
     "output_type": "execute_result"
    }
   ],
   "source": [
    "joblib.dump(GBC_grid.best_estimator_, 'GBC_MODEL.pkl')"
   ]
  },
  {
   "cell_type": "code",
   "execution_count": 133,
   "metadata": {
    "ExecuteTime": {
     "end_time": "2019-12-01T23:11:12.869024Z",
     "start_time": "2019-12-01T23:11:12.865034Z"
    }
   },
   "outputs": [],
   "source": [
    "from xgboost import XGBClassifier\n",
    "import xgboost as xgb"
   ]
  },
  {
   "cell_type": "code",
   "execution_count": 134,
   "metadata": {
    "ExecuteTime": {
     "end_time": "2019-12-01T23:11:15.987085Z",
     "start_time": "2019-12-01T23:11:15.975153Z"
    }
   },
   "outputs": [
    {
     "name": "stderr",
     "output_type": "stream",
     "text": [
      "C:\\Users\\naive\\Anaconda3\\lib\\site-packages\\xgboost\\core.py:587: FutureWarning: Series.base is deprecated and will be removed in a future version\n",
      "  if getattr(data, 'base', None) is not None and \\\n",
      "C:\\Users\\naive\\Anaconda3\\lib\\site-packages\\xgboost\\core.py:588: FutureWarning: Series.base is deprecated and will be removed in a future version\n",
      "  data.base is not None and isinstance(data, np.ndarray) \\\n"
     ]
    }
   ],
   "source": [
    "dtrain = xgb.DMatrix(data = X_train, label = y_train)"
   ]
  },
  {
   "cell_type": "code",
   "execution_count": 59,
   "metadata": {
    "ExecuteTime": {
     "end_time": "2019-12-01T21:33:27.234477Z",
     "start_time": "2019-12-01T21:33:27.226537Z"
    }
   },
   "outputs": [],
   "source": [
    "XGB_para_grid = {\n",
    "              'objective':['binary:logistic'],\n",
    "              'learning_rate': [0.01, 0.05,0,1], #so called `eta` value\n",
    "              'max_depth': [5,6,7],\n",
    "              'min_child_weight': [9,11,12],\n",
    "              'colsample_bytree': [0.7],\n",
    "              'n_estimators': [150, 200, 300, 350] #number of trees, change it to 1000 for better results\n",
    "              }"
   ]
  },
  {
   "cell_type": "code",
   "execution_count": 60,
   "metadata": {
    "ExecuteTime": {
     "end_time": "2019-12-01T21:33:28.547559Z",
     "start_time": "2019-12-01T21:33:28.542570Z"
    }
   },
   "outputs": [],
   "source": [
    "xgb_classifier = xgb.XGBClassifier(random_state = 0)"
   ]
  },
  {
   "cell_type": "code",
   "execution_count": 61,
   "metadata": {
    "ExecuteTime": {
     "end_time": "2019-12-01T21:33:29.790729Z",
     "start_time": "2019-12-01T21:33:29.785742Z"
    }
   },
   "outputs": [],
   "source": [
    "xgb_grid = GridSearchCV(xgb_classifier, XGB_para_grid, cv = 5, n_jobs = 5, scoring = 'accuracy' )"
   ]
  },
  {
   "cell_type": "code",
   "execution_count": 62,
   "metadata": {
    "ExecuteTime": {
     "end_time": "2019-12-01T21:34:41.461659Z",
     "start_time": "2019-12-01T21:33:31.816854Z"
    }
   },
   "outputs": [
    {
     "data": {
      "text/plain": [
       "GridSearchCV(cv=5, error_score='raise-deprecating',\n",
       "       estimator=XGBClassifier(base_score=0.5, booster='gbtree', colsample_bylevel=1,\n",
       "       colsample_bynode=1, colsample_bytree=1, gamma=0, learning_rate=0.1,\n",
       "       max_delta_step=0, max_depth=3, min_child_weight=1, missing=None,\n",
       "       n_estimators=100, n_jobs=1, nthread=None,\n",
       "       objective='binary:logistic', random_state=0, reg_alpha=0,\n",
       "       reg_lambda=1, scale_pos_weight=1, seed=None, silent=None,\n",
       "       subsample=1, verbosity=1),\n",
       "       fit_params=None, iid='warn', n_jobs=5,\n",
       "       param_grid={'objective': ['binary:logistic'], 'learning_rate': [0.01, 0.05, 0, 1], 'max_depth': [5, 6, 7], 'min_child_weight': [9, 11, 12], 'colsample_bytree': [0.7], 'n_estimators': [150, 200, 300, 350]},\n",
       "       pre_dispatch='2*n_jobs', refit=True, return_train_score='warn',\n",
       "       scoring='accuracy', verbose=0)"
      ]
     },
     "execution_count": 62,
     "metadata": {},
     "output_type": "execute_result"
    }
   ],
   "source": [
    "xgb_grid.fit(X_train, y_train)"
   ]
  },
  {
   "cell_type": "code",
   "execution_count": 145,
   "metadata": {
    "ExecuteTime": {
     "end_time": "2019-12-01T23:14:38.246775Z",
     "start_time": "2019-12-01T23:14:38.229782Z"
    }
   },
   "outputs": [
    {
     "data": {
      "text/plain": [
       "(418,)"
      ]
     },
     "execution_count": 145,
     "metadata": {},
     "output_type": "execute_result"
    }
   ],
   "source": [
    "xgb_grid.best_estimator_.predict(X_test).shape"
   ]
  },
  {
   "cell_type": "code",
   "execution_count": 63,
   "metadata": {
    "ExecuteTime": {
     "end_time": "2019-12-01T21:36:53.364314Z",
     "start_time": "2019-12-01T21:36:53.352349Z"
    }
   },
   "outputs": [
    {
     "name": "stderr",
     "output_type": "stream",
     "text": [
      "C:\\Users\\naive\\Anaconda3\\lib\\site-packages\\sklearn\\utils\\deprecation.py:125: FutureWarning: You are accessing a training score ('split0_train_score'), which will not be available by default any more in 0.21. If you need training scores, please set return_train_score=True\n",
      "  warnings.warn(*warn_args, **warn_kwargs)\n",
      "C:\\Users\\naive\\Anaconda3\\lib\\site-packages\\sklearn\\utils\\deprecation.py:125: FutureWarning: You are accessing a training score ('split1_train_score'), which will not be available by default any more in 0.21. If you need training scores, please set return_train_score=True\n",
      "  warnings.warn(*warn_args, **warn_kwargs)\n",
      "C:\\Users\\naive\\Anaconda3\\lib\\site-packages\\sklearn\\utils\\deprecation.py:125: FutureWarning: You are accessing a training score ('split2_train_score'), which will not be available by default any more in 0.21. If you need training scores, please set return_train_score=True\n",
      "  warnings.warn(*warn_args, **warn_kwargs)\n",
      "C:\\Users\\naive\\Anaconda3\\lib\\site-packages\\sklearn\\utils\\deprecation.py:125: FutureWarning: You are accessing a training score ('split3_train_score'), which will not be available by default any more in 0.21. If you need training scores, please set return_train_score=True\n",
      "  warnings.warn(*warn_args, **warn_kwargs)\n",
      "C:\\Users\\naive\\Anaconda3\\lib\\site-packages\\sklearn\\utils\\deprecation.py:125: FutureWarning: You are accessing a training score ('split4_train_score'), which will not be available by default any more in 0.21. If you need training scores, please set return_train_score=True\n",
      "  warnings.warn(*warn_args, **warn_kwargs)\n",
      "C:\\Users\\naive\\Anaconda3\\lib\\site-packages\\sklearn\\utils\\deprecation.py:125: FutureWarning: You are accessing a training score ('mean_train_score'), which will not be available by default any more in 0.21. If you need training scores, please set return_train_score=True\n",
      "  warnings.warn(*warn_args, **warn_kwargs)\n",
      "C:\\Users\\naive\\Anaconda3\\lib\\site-packages\\sklearn\\utils\\deprecation.py:125: FutureWarning: You are accessing a training score ('std_train_score'), which will not be available by default any more in 0.21. If you need training scores, please set return_train_score=True\n",
      "  warnings.warn(*warn_args, **warn_kwargs)\n"
     ]
    }
   ],
   "source": [
    "xgb_result = pd.DataFrame(xgb_grid.cv_results_)\n",
    "xgb_result.sort_values('rank_test_score', axis=0, ascending=True, inplace=True)\n",
    "xgb_result = xgb_result[['params', 'rank_test_score', 'mean_test_score', 'mean_train_score']]\n",
    "xgb_result.to_csv('xgb_Model_result.csv')"
   ]
  },
  {
   "cell_type": "code",
   "execution_count": 64,
   "metadata": {
    "ExecuteTime": {
     "end_time": "2019-12-01T21:38:04.716307Z",
     "start_time": "2019-12-01T21:38:04.705338Z"
    }
   },
   "outputs": [
    {
     "data": {
      "text/plain": [
       "['XGB_BEST_MODEL.pkl']"
      ]
     },
     "execution_count": 64,
     "metadata": {},
     "output_type": "execute_result"
    }
   ],
   "source": [
    "joblib.dump(xgb_grid.best_estimator_, 'XGB_BEST_MODEL.pkl')"
   ]
  },
  {
   "cell_type": "code",
   "execution_count": 69,
   "metadata": {
    "ExecuteTime": {
     "end_time": "2019-12-01T21:48:29.145323Z",
     "start_time": "2019-12-01T21:48:28.812500Z"
    }
   },
   "outputs": [],
   "source": [
    "RF_Best_Model = joblib.load('RF_BEST_MODEL.pkl')"
   ]
  },
  {
   "cell_type": "code",
   "execution_count": 70,
   "metadata": {
    "ExecuteTime": {
     "end_time": "2019-12-01T21:50:43.279571Z",
     "start_time": "2019-12-01T21:50:43.109389Z"
    }
   },
   "outputs": [],
   "source": [
    "feature_importance = pd.DataFrame({'feature': list(X_train.columns),\n",
    "                                   'RF_importance': RF_Best_Model.feature_importances_,\n",
    "                                   'Ada_importance': Ada_grid.best_estimator_.feature_importances_,\n",
    "                                   'GBC_importance': GBC_grid.best_estimator_.feature_importances_,\n",
    "                                   'XGB_importance': xgb_grid.best_estimator_.feature_importances_})"
   ]
  },
  {
   "cell_type": "code",
   "execution_count": 71,
   "metadata": {
    "ExecuteTime": {
     "end_time": "2019-12-01T21:50:51.692443Z",
     "start_time": "2019-12-01T21:50:51.676474Z"
    }
   },
   "outputs": [
    {
     "data": {
      "text/html": [
       "<div>\n",
       "<style scoped>\n",
       "    .dataframe tbody tr th:only-of-type {\n",
       "        vertical-align: middle;\n",
       "    }\n",
       "\n",
       "    .dataframe tbody tr th {\n",
       "        vertical-align: top;\n",
       "    }\n",
       "\n",
       "    .dataframe thead th {\n",
       "        text-align: right;\n",
       "    }\n",
       "</style>\n",
       "<table border=\"1\" class=\"dataframe\">\n",
       "  <thead>\n",
       "    <tr style=\"text-align: right;\">\n",
       "      <th></th>\n",
       "      <th>feature</th>\n",
       "      <th>RF_importance</th>\n",
       "      <th>Ada_importance</th>\n",
       "      <th>GBC_importance</th>\n",
       "      <th>XGB_importance</th>\n",
       "    </tr>\n",
       "  </thead>\n",
       "  <tbody>\n",
       "    <tr>\n",
       "      <th>0</th>\n",
       "      <td>Age</td>\n",
       "      <td>0.160398</td>\n",
       "      <td>0.110651</td>\n",
       "      <td>0.168533</td>\n",
       "      <td>0.029800</td>\n",
       "    </tr>\n",
       "    <tr>\n",
       "      <th>1</th>\n",
       "      <td>Parch</td>\n",
       "      <td>0.022159</td>\n",
       "      <td>0.002563</td>\n",
       "      <td>0.021339</td>\n",
       "      <td>0.033346</td>\n",
       "    </tr>\n",
       "    <tr>\n",
       "      <th>2</th>\n",
       "      <td>Pclass</td>\n",
       "      <td>0.051943</td>\n",
       "      <td>0.057214</td>\n",
       "      <td>0.051769</td>\n",
       "      <td>0.183206</td>\n",
       "    </tr>\n",
       "    <tr>\n",
       "      <th>3</th>\n",
       "      <td>SibSp</td>\n",
       "      <td>0.040836</td>\n",
       "      <td>0.012717</td>\n",
       "      <td>0.039934</td>\n",
       "      <td>0.021223</td>\n",
       "    </tr>\n",
       "    <tr>\n",
       "      <th>4</th>\n",
       "      <td>C</td>\n",
       "      <td>0.010588</td>\n",
       "      <td>0.005313</td>\n",
       "      <td>0.008876</td>\n",
       "      <td>0.028385</td>\n",
       "    </tr>\n",
       "    <tr>\n",
       "      <th>5</th>\n",
       "      <td>Q</td>\n",
       "      <td>0.006801</td>\n",
       "      <td>0.000000</td>\n",
       "      <td>0.006494</td>\n",
       "      <td>0.000000</td>\n",
       "    </tr>\n",
       "    <tr>\n",
       "      <th>6</th>\n",
       "      <td>S</td>\n",
       "      <td>0.013901</td>\n",
       "      <td>0.018478</td>\n",
       "      <td>0.014937</td>\n",
       "      <td>0.066641</td>\n",
       "    </tr>\n",
       "    <tr>\n",
       "      <th>7</th>\n",
       "      <td>Cabin_letter</td>\n",
       "      <td>0.054492</td>\n",
       "      <td>0.071570</td>\n",
       "      <td>0.047285</td>\n",
       "      <td>0.072865</td>\n",
       "    </tr>\n",
       "    <tr>\n",
       "      <th>8</th>\n",
       "      <td>title</td>\n",
       "      <td>0.202274</td>\n",
       "      <td>0.366185</td>\n",
       "      <td>0.234365</td>\n",
       "      <td>0.328442</td>\n",
       "    </tr>\n",
       "    <tr>\n",
       "      <th>9</th>\n",
       "      <td>sex</td>\n",
       "      <td>0.167655</td>\n",
       "      <td>0.142414</td>\n",
       "      <td>0.145778</td>\n",
       "      <td>0.061604</td>\n",
       "    </tr>\n",
       "    <tr>\n",
       "      <th>10</th>\n",
       "      <td>Fare_bin_id</td>\n",
       "      <td>0.017137</td>\n",
       "      <td>0.000000</td>\n",
       "      <td>0.013848</td>\n",
       "      <td>0.017823</td>\n",
       "    </tr>\n",
       "    <tr>\n",
       "      <th>11</th>\n",
       "      <td>Fare_0</td>\n",
       "      <td>0.005389</td>\n",
       "      <td>0.001364</td>\n",
       "      <td>0.004000</td>\n",
       "      <td>0.000016</td>\n",
       "    </tr>\n",
       "    <tr>\n",
       "      <th>12</th>\n",
       "      <td>Fare_1</td>\n",
       "      <td>0.008426</td>\n",
       "      <td>0.000000</td>\n",
       "      <td>0.008646</td>\n",
       "      <td>0.016068</td>\n",
       "    </tr>\n",
       "    <tr>\n",
       "      <th>13</th>\n",
       "      <td>Fare_2</td>\n",
       "      <td>0.006738</td>\n",
       "      <td>0.000000</td>\n",
       "      <td>0.007230</td>\n",
       "      <td>0.017287</td>\n",
       "    </tr>\n",
       "    <tr>\n",
       "      <th>14</th>\n",
       "      <td>Fare_3</td>\n",
       "      <td>0.006804</td>\n",
       "      <td>0.000000</td>\n",
       "      <td>0.007383</td>\n",
       "      <td>0.013547</td>\n",
       "    </tr>\n",
       "    <tr>\n",
       "      <th>15</th>\n",
       "      <td>Fare_4</td>\n",
       "      <td>0.006906</td>\n",
       "      <td>0.000000</td>\n",
       "      <td>0.005016</td>\n",
       "      <td>0.044383</td>\n",
       "    </tr>\n",
       "    <tr>\n",
       "      <th>16</th>\n",
       "      <td>Pclass_Fare_Category2</td>\n",
       "      <td>0.072895</td>\n",
       "      <td>0.091379</td>\n",
       "      <td>0.064700</td>\n",
       "      <td>0.037857</td>\n",
       "    </tr>\n",
       "    <tr>\n",
       "      <th>17</th>\n",
       "      <td>Fare</td>\n",
       "      <td>0.144658</td>\n",
       "      <td>0.120153</td>\n",
       "      <td>0.149867</td>\n",
       "      <td>0.027507</td>\n",
       "    </tr>\n",
       "  </tbody>\n",
       "</table>\n",
       "</div>"
      ],
      "text/plain": [
       "                  feature  RF_importance  Ada_importance  GBC_importance  \\\n",
       "0                     Age       0.160398        0.110651        0.168533   \n",
       "1                   Parch       0.022159        0.002563        0.021339   \n",
       "2                  Pclass       0.051943        0.057214        0.051769   \n",
       "3                   SibSp       0.040836        0.012717        0.039934   \n",
       "4                       C       0.010588        0.005313        0.008876   \n",
       "5                       Q       0.006801        0.000000        0.006494   \n",
       "6                       S       0.013901        0.018478        0.014937   \n",
       "7            Cabin_letter       0.054492        0.071570        0.047285   \n",
       "8                   title       0.202274        0.366185        0.234365   \n",
       "9                     sex       0.167655        0.142414        0.145778   \n",
       "10            Fare_bin_id       0.017137        0.000000        0.013848   \n",
       "11                 Fare_0       0.005389        0.001364        0.004000   \n",
       "12                 Fare_1       0.008426        0.000000        0.008646   \n",
       "13                 Fare_2       0.006738        0.000000        0.007230   \n",
       "14                 Fare_3       0.006804        0.000000        0.007383   \n",
       "15                 Fare_4       0.006906        0.000000        0.005016   \n",
       "16  Pclass_Fare_Category2       0.072895        0.091379        0.064700   \n",
       "17                   Fare       0.144658        0.120153        0.149867   \n",
       "\n",
       "    XGB_importance  \n",
       "0         0.029800  \n",
       "1         0.033346  \n",
       "2         0.183206  \n",
       "3         0.021223  \n",
       "4         0.028385  \n",
       "5         0.000000  \n",
       "6         0.066641  \n",
       "7         0.072865  \n",
       "8         0.328442  \n",
       "9         0.061604  \n",
       "10        0.017823  \n",
       "11        0.000016  \n",
       "12        0.016068  \n",
       "13        0.017287  \n",
       "14        0.013547  \n",
       "15        0.044383  \n",
       "16        0.037857  \n",
       "17        0.027507  "
      ]
     },
     "execution_count": 71,
     "metadata": {},
     "output_type": "execute_result"
    }
   ],
   "source": [
    "feature_importance"
   ]
  },
  {
   "cell_type": "code",
   "execution_count": 95,
   "metadata": {
    "ExecuteTime": {
     "end_time": "2019-12-01T22:17:01.605365Z",
     "start_time": "2019-12-01T22:17:00.923599Z"
    }
   },
   "outputs": [
    {
     "data": {
      "text/plain": [
       "<BarContainer object of 18 artists>"
      ]
     },
     "execution_count": 95,
     "metadata": {},
     "output_type": "execute_result"
    },
    {
     "data": {
      "image/png": "[encoded data removed]",
      "text/plain": [
       "<Figure size 1800x576 with 4 Axes>"
      ]
     },
     "metadata": {
      "needs_background": "light"
     },
     "output_type": "display_data"
    }
   ],
   "source": [
    "plt.figure(figsize=(25,8))\n",
    "plt.subplots_adjust(hspace=1)\n",
    "plt.subplot(411)\n",
    "plt.title('RF_importance',loc='center')\n",
    "plt.bar(feature_importance['feature'], feature_importance['RF_importance'])\n",
    "\n",
    "plt.subplot(412)\n",
    "plt.title('Ada_importance')\n",
    "plt.bar(feature_importance['feature'], feature_importance['Ada_importance'])\n",
    "\n",
    "plt.subplot(413)\n",
    "plt.title('GBC_importance')\n",
    "plt.bar(feature_importance['feature'], feature_importance['GBC_importance'])\n",
    "\n",
    "plt.subplot(414)\n",
    "plt.title('XGB_importance')\n",
    "plt.bar(feature_importance['feature'], feature_importance['XGB_importance'])"
   ]
  },
  {
   "cell_type": "code",
   "execution_count": 96,
   "metadata": {
    "ExecuteTime": {
     "end_time": "2019-12-01T22:36:50.552193Z",
     "start_time": "2019-12-01T22:36:50.340293Z"
    }
   },
   "outputs": [],
   "source": [
    "from sklearn.model_selection import KFold"
   ]
  },
  {
   "cell_type": "code",
   "execution_count": 164,
   "metadata": {
    "ExecuteTime": {
     "end_time": "2019-12-01T23:32:51.617732Z",
     "start_time": "2019-12-01T23:32:51.608744Z"
    }
   },
   "outputs": [],
   "source": [
    "kf = KFold(7, random_state = 0, shuffle = False)\n",
    "def get_out_fold(clf, x_train, y_train, x_test):\n",
    "    num_train = x_train.shape[0]\n",
    "    num_test = x_test.shape[0]\n",
    "    num_folder = 7\n",
    "    \n",
    "    oof_train = np.zeros(num_train)\n",
    "    oof_test_skf = np.zeros((num_folder, num_test))\n",
    "    oof_test = np.zeros((num_test,))\n",
    "    \n",
    "    for i, (train_index, test_index) in enumerate(kf.split(x_train)):\n",
    "        x_tr = x_train[train_index]\n",
    "        x_te = x_train[test_index]\n",
    "        y_tr = y_train[train_index]\n",
    "        \n",
    "        clf.fit(x_tr, y_tr)\n",
    "        oof_train[test_index] = clf.predict(x_te)\n",
    "        oof_test_skf[i,:] = clf.predict(x_test)\n",
    "        \n",
    "    oof_test[:] = oof_test_skf.mean(axis = 0)\n",
    "    return oof_train.reshape(-1,1), oof_test.reshape(-1,1)"
   ]
  },
  {
   "cell_type": "code",
   "execution_count": 121,
   "metadata": {
    "ExecuteTime": {
     "end_time": "2019-12-01T23:07:26.744056Z",
     "start_time": "2019-12-01T23:07:26.151648Z"
    }
   },
   "outputs": [],
   "source": [
    "ada = AdaBoostClassifier(algorithm='SAMME.R',\n",
    "           base_estimator=DecisionTreeClassifier(class_weight=None, criterion='gini', max_depth=3,\n",
    "            max_features=None, max_leaf_nodes=None,\n",
    "            min_impurity_decrease=0.0, min_impurity_split=None,\n",
    "            min_samples_leaf=1, min_samples_split=2,\n",
    "            min_weight_fraction_leaf=0.0, presort=False, random_state=None,\n",
    "            splitter='best'),\n",
    "          learning_rate=0.01, n_estimators=150, random_state=0)"
   ]
  },
  {
   "cell_type": "code",
   "execution_count": 123,
   "metadata": {
    "ExecuteTime": {
     "end_time": "2019-12-01T23:08:00.840121Z",
     "start_time": "2019-12-01T23:08:00.832139Z"
    }
   },
   "outputs": [],
   "source": [
    "gbc = GradientBoostingClassifier(criterion='friedman_mse', init=None,\n",
    "              learning_rate=0.01, loss='deviance', max_depth=7,\n",
    "              max_features=6, max_leaf_nodes=None,\n",
    "              min_impurity_decrease=0.0, min_impurity_split=None,\n",
    "              min_samples_leaf=1, min_samples_split=2,\n",
    "              min_weight_fraction_leaf=0.0, n_estimators=350,\n",
    "              n_iter_no_change=None, presort='auto', random_state=0,\n",
    "              subsample=1.0, tol=0.0001, validation_fraction=0.1,\n",
    "              verbose=0, warm_start=False)"
   ]
  },
  {
   "cell_type": "code",
   "execution_count": 125,
   "metadata": {
    "ExecuteTime": {
     "end_time": "2019-12-01T23:08:22.822103Z",
     "start_time": "2019-12-01T23:08:22.716537Z"
    }
   },
   "outputs": [],
   "source": [
    "rf = RandomForestClassifier(bootstrap=True, class_weight=None, criterion='entropy',\n",
    "            max_depth=8, max_features=7, max_leaf_nodes=None,\n",
    "            min_impurity_decrease=0.0, min_impurity_split=None,\n",
    "            min_samples_leaf=1, min_samples_split=2,\n",
    "            min_weight_fraction_leaf=0.0, n_estimators=300, n_jobs=None,\n",
    "            oob_score=False, random_state=None, verbose=0,\n",
    "            warm_start=False)"
   ]
  },
  {
   "cell_type": "code",
   "execution_count": 140,
   "metadata": {
    "ExecuteTime": {
     "end_time": "2019-12-01T23:12:24.650970Z",
     "start_time": "2019-12-01T23:12:24.645983Z"
    }
   },
   "outputs": [],
   "source": [
    "ExtremeGB = XGBClassifier(base_score=0.5, booster='gbtree', colsample_bylevel=1,\n",
    "       colsample_bynode=1, colsample_bytree=0.7, gamma=0, learning_rate=1,\n",
    "       max_delta_step=0, max_depth=6, min_child_weight=11,\n",
    "       n_estimators=300, n_jobs=1, nthread=None,\n",
    "       objective='binary:logistic', random_state=0, reg_alpha=0,\n",
    "       reg_lambda=1, scale_pos_weight=1, seed=None, silent=None,\n",
    "       subsample=1, verbosity=1)"
   ]
  },
  {
   "cell_type": "code",
   "execution_count": 156,
   "metadata": {
    "ExecuteTime": {
     "end_time": "2019-12-01T23:19:53.481172Z",
     "start_time": "2019-12-01T23:19:53.463228Z"
    }
   },
   "outputs": [
    {
     "data": {
      "text/html": [
       "<div>\n",
       "<style scoped>\n",
       "    .dataframe tbody tr th:only-of-type {\n",
       "        vertical-align: middle;\n",
       "    }\n",
       "\n",
       "    .dataframe tbody tr th {\n",
       "        vertical-align: top;\n",
       "    }\n",
       "\n",
       "    .dataframe thead th {\n",
       "        text-align: right;\n",
       "    }\n",
       "</style>\n",
       "<table border=\"1\" class=\"dataframe\">\n",
       "  <thead>\n",
       "    <tr style=\"text-align: right;\">\n",
       "      <th></th>\n",
       "      <th>Age</th>\n",
       "      <th>Parch</th>\n",
       "      <th>Pclass</th>\n",
       "      <th>SibSp</th>\n",
       "      <th>C</th>\n",
       "      <th>Q</th>\n",
       "      <th>S</th>\n",
       "      <th>Cabin_letter</th>\n",
       "      <th>title</th>\n",
       "      <th>sex</th>\n",
       "      <th>Fare_bin_id</th>\n",
       "      <th>Fare_0</th>\n",
       "      <th>Fare_1</th>\n",
       "      <th>Fare_2</th>\n",
       "      <th>Fare_3</th>\n",
       "      <th>Fare_4</th>\n",
       "      <th>Pclass_Fare_Category2</th>\n",
       "      <th>Fare</th>\n",
       "    </tr>\n",
       "  </thead>\n",
       "  <tbody>\n",
       "    <tr>\n",
       "      <th>1043</th>\n",
       "      <td>2.296037</td>\n",
       "      <td>0</td>\n",
       "      <td>3</td>\n",
       "      <td>0</td>\n",
       "      <td>0</td>\n",
       "      <td>0</td>\n",
       "      <td>1</td>\n",
       "      <td>0</td>\n",
       "      <td>0</td>\n",
       "      <td>1</td>\n",
       "      <td>3</td>\n",
       "      <td>0</td>\n",
       "      <td>0</td>\n",
       "      <td>0</td>\n",
       "      <td>1</td>\n",
       "      <td>0</td>\n",
       "      <td>4</td>\n",
       "      <td>NaN</td>\n",
       "    </tr>\n",
       "  </tbody>\n",
       "</table>\n",
       "</div>"
      ],
      "text/plain": [
       "           Age  Parch  Pclass  SibSp  C  Q  S  Cabin_letter  title  sex  \\\n",
       "1043  2.296037      0       3      0  0  0  1             0      0    1   \n",
       "\n",
       "      Fare_bin_id  Fare_0  Fare_1  Fare_2  Fare_3  Fare_4  \\\n",
       "1043            3       0       0       0       1       0   \n",
       "\n",
       "      Pclass_Fare_Category2  Fare  \n",
       "1043                      4   NaN  "
      ]
     },
     "execution_count": 156,
     "metadata": {},
     "output_type": "execute_result"
    }
   ],
   "source": [
    "X_test[X_test.isnull().values == True]"
   ]
  },
  {
   "cell_type": "code",
   "execution_count": 159,
   "metadata": {
    "ExecuteTime": {
     "end_time": "2019-12-01T23:29:09.158325Z",
     "start_time": "2019-12-01T23:29:09.153339Z"
    }
   },
   "outputs": [],
   "source": [
    "X_test['Fare'].fillna(18.5, inplace = True)"
   ]
  },
  {
   "cell_type": "code",
   "execution_count": 165,
   "metadata": {
    "ExecuteTime": {
     "end_time": "2019-12-01T23:33:01.886934Z",
     "start_time": "2019-12-01T23:32:54.710844Z"
    }
   },
   "outputs": [],
   "source": [
    "gbc_oof_train, gbc_oof_test = get_out_fold(gbc, x_train = X_train.values, y_train = y_train.values, x_test = X_test.values)"
   ]
  },
  {
   "cell_type": "code",
   "execution_count": 167,
   "metadata": {
    "ExecuteTime": {
     "end_time": "2019-12-01T23:38:05.578597Z",
     "start_time": "2019-12-01T23:38:03.607013Z"
    }
   },
   "outputs": [],
   "source": [
    "ada_oof_train, ada_oof_test = get_out_fold(ada,x_train = X_train.values, y_train = y_train.values, x_test = X_test.values)"
   ]
  },
  {
   "cell_type": "code",
   "execution_count": 168,
   "metadata": {
    "ExecuteTime": {
     "end_time": "2019-12-01T23:38:29.852573Z",
     "start_time": "2019-12-01T23:38:26.925293Z"
    }
   },
   "outputs": [],
   "source": [
    "rf_oof_train, rf_oof_test = get_out_fold(rf, x_train = X_train.values, y_train = y_train.values, x_test = X_test.values)"
   ]
  },
  {
   "cell_type": "code",
   "execution_count": 169,
   "metadata": {
    "ExecuteTime": {
     "end_time": "2019-12-01T23:39:09.968151Z",
     "start_time": "2019-12-01T23:39:06.713763Z"
    }
   },
   "outputs": [],
   "source": [
    "xgb_oof_train, xgb_oof_test = get_out_fold(ExtremeGB,x_train = X_train.values, y_train = y_train.values, x_test = X_test.values)"
   ]
  },
  {
   "cell_type": "code",
   "execution_count": 170,
   "metadata": {
    "ExecuteTime": {
     "end_time": "2019-12-01T23:41:25.086014Z",
     "start_time": "2019-12-01T23:41:25.081983Z"
    }
   },
   "outputs": [],
   "source": [
    "second_train = np.concatenate((gbc_oof_train, ada_oof_train, rf_oof_train, xgb_oof_train), axis = 1)\n",
    "second_test = np.concatenate((gbc_oof_test, ada_oof_test, rf_oof_test, xgb_oof_test), axis = 1)"
   ]
  },
  {
   "cell_type": "code",
   "execution_count": 182,
   "metadata": {
    "ExecuteTime": {
     "end_time": "2019-12-01T23:47:49.554856Z",
     "start_time": "2019-12-01T23:47:49.539896Z"
    }
   },
   "outputs": [],
   "source": [
    "df_first_result = pd.DataFrame({'gbc': pd.Series(gbc_oof_test.reshape(-1)),\n",
    "                                'ada': pd.Series(ada_oof_test.reshape(-1)),\n",
    "                                'rf': pd.Series(rf_oof_test.reshape(-1)),\n",
    "                                'xgb': pd.Series(xgb_oof_test.reshape(-1))})"
   ]
  },
  {
   "cell_type": "code",
   "execution_count": 194,
   "metadata": {
    "ExecuteTime": {
     "end_time": "2019-12-02T00:13:51.372611Z",
     "start_time": "2019-12-02T00:13:51.364629Z"
    }
   },
   "outputs": [],
   "source": [
    "df_first_result.to_csv('first_result.csv')"
   ]
  },
  {
   "cell_type": "code",
   "execution_count": 193,
   "metadata": {
    "ExecuteTime": {
     "end_time": "2019-12-02T00:13:20.011628Z",
     "start_time": "2019-12-02T00:13:20.005648Z"
    }
   },
   "outputs": [],
   "source": [
    "df_second_train = pd.DataFrame({'gbc': pd.Series(gbc_oof_train.reshape(-1)),\n",
    "                                'ada': pd.Series(ada_oof_train.reshape(-1)),\n",
    "                                'rf': pd.Series(rf_oof_train.reshape(-1)),\n",
    "                                'xgb': pd.Series(xgb_oof_train.reshape(-1))})"
   ]
  },
  {
   "cell_type": "code",
   "execution_count": 195,
   "metadata": {
    "ExecuteTime": {
     "end_time": "2019-12-02T00:14:04.724837Z",
     "start_time": "2019-12-02T00:14:04.691928Z"
    }
   },
   "outputs": [],
   "source": [
    "df_second_train.to_csv('first_train_result.csv')"
   ]
  },
  {
   "cell_type": "code",
   "execution_count": 192,
   "metadata": {
    "ExecuteTime": {
     "end_time": "2019-12-02T00:10:48.464686Z",
     "start_time": "2019-12-02T00:10:48.267351Z"
    }
   },
   "outputs": [],
   "source": [
    "from Plot_learning_curve import plot_learning_curve"
   ]
  },
  {
   "cell_type": "code",
   "execution_count": null,
   "metadata": {},
   "outputs": [],
   "source": []
  }
 ],
 "metadata": {
  "kernelspec": {
   "display_name": "Python 3",
   "language": "python",
   "name": "python3"
  },
  "language_info": {
   "codemirror_mode": {
    "name": "ipython",
    "version": 3
   },
   "file_extension": ".py",
   "mimetype": "text/x-python",
   "name": "python",
   "nbconvert_exporter": "python",
   "pygments_lexer": "ipython3",
   "version": "3.7.1"
  },
  "toc": {
   "base_numbering": 1,
   "nav_menu": {},
   "number_sections": true,
   "sideBar": true,
   "skip_h1_title": false,
   "title_cell": "Table of Contents",
   "title_sidebar": "Contents",
   "toc_cell": false,
   "toc_position": {},
   "toc_section_display": true,
   "toc_window_display": false
  },
  "varInspector": {
   "cols": {
    "lenName": 16,
    "lenType": 16,
    "lenVar": 40
   },
   "kernels_config": {
    "python": {
     "delete_cmd_postfix": "",
     "delete_cmd_prefix": "del ",
     "library": "var_list.py",
     "varRefreshCmd": "print(var_dic_list())"
    },
    "r": {
     "delete_cmd_postfix": ") ",
     "delete_cmd_prefix": "rm(",
     "library": "var_list.r",
     "varRefreshCmd": "cat(var_dic_list()) "
    }
   },
   "types_to_exclude": [
    "module",
    "function",
    "builtin_function_or_method",
    "instance",
    "_Feature"
   ],
   "window_display": false
  }
 },
 "nbformat": 4,
 "nbformat_minor": 2
}
