{
 "cells": [
  {
   "cell_type": "code",
   "execution_count": 1,
   "metadata": {
    "ExecuteTime": {
     "end_time": "2019-12-02T21:07:04.418987Z",
     "start_time": "2019-12-02T21:07:02.265495Z"
    }
   },
   "outputs": [],
   "source": [
    "import pandas as pd\n",
    "import numpy as np\n",
    "import matplotlib.pyplot as plt\n",
    "import seaborn as sns\n",
    "import re"
   ]
  },
  {
   "cell_type": "code",
   "execution_count": 2,
   "metadata": {
    "ExecuteTime": {
     "end_time": "2019-11-30T14:26:27.888322Z",
     "start_time": "2019-11-30T14:26:27.709719Z"
    }
   },
   "outputs": [],
   "source": [
    "df = pd.read_csv('to_find_age.csv')"
   ]
  },
  {
   "cell_type": "code",
   "execution_count": 3,
   "metadata": {
    "ExecuteTime": {
     "end_time": "2019-11-30T14:26:28.832789Z",
     "start_time": "2019-11-30T14:26:28.820821Z"
    }
   },
   "outputs": [
    {
     "name": "stdout",
     "output_type": "stream",
     "text": [
      "<class 'pandas.core.frame.DataFrame'>\n",
      "RangeIndex: 1309 entries, 0 to 1308\n",
      "Data columns (total 20 columns):\n",
      "Unnamed: 0               1309 non-null int64\n",
      "Age                      1046 non-null float64\n",
      "Cabin                    1309 non-null object\n",
      "Parch                    1309 non-null int64\n",
      "Pclass                   1309 non-null int64\n",
      "SibSp                    1309 non-null int64\n",
      "Survived                 1309 non-null int64\n",
      "C                        1309 non-null int64\n",
      "Q                        1309 non-null int64\n",
      "S                        1309 non-null int64\n",
      "Cabin_letter             1309 non-null int64\n",
      "title                    1309 non-null int64\n",
      "sex                      1309 non-null int64\n",
      "Fare_bin_id              1309 non-null int64\n",
      "Fare_0                   1309 non-null int64\n",
      "Fare_1                   1309 non-null int64\n",
      "Fare_2                   1309 non-null int64\n",
      "Fare_3                   1309 non-null int64\n",
      "Fare_4                   1309 non-null int64\n",
      "Pclass_Fare_Category2    1309 non-null int64\n",
      "dtypes: float64(1), int64(18), object(1)\n",
      "memory usage: 204.6+ KB\n"
     ]
    }
   ],
   "source": [
    "df.info()"
   ]
  },
  {
   "cell_type": "code",
   "execution_count": 4,
   "metadata": {
    "ExecuteTime": {
     "end_time": "2019-11-30T14:26:32.494625Z",
     "start_time": "2019-11-30T14:26:32.484653Z"
    }
   },
   "outputs": [],
   "source": [
    "df.drop('Unnamed: 0', axis=1, inplace=True)"
   ]
  },
  {
   "cell_type": "code",
   "execution_count": 5,
   "metadata": {
    "ExecuteTime": {
     "end_time": "2019-11-30T14:26:33.775647Z",
     "start_time": "2019-11-30T14:26:33.756698Z"
    }
   },
   "outputs": [
    {
     "data": {
      "text/html": [
       "<div>\n",
       "<style scoped>\n",
       "    .dataframe tbody tr th:only-of-type {\n",
       "        vertical-align: middle;\n",
       "    }\n",
       "\n",
       "    .dataframe tbody tr th {\n",
       "        vertical-align: top;\n",
       "    }\n",
       "\n",
       "    .dataframe thead th {\n",
       "        text-align: right;\n",
       "    }\n",
       "</style>\n",
       "<table border=\"1\" class=\"dataframe\">\n",
       "  <thead>\n",
       "    <tr style=\"text-align: right;\">\n",
       "      <th></th>\n",
       "      <th>Age</th>\n",
       "      <th>Cabin</th>\n",
       "      <th>Parch</th>\n",
       "      <th>Pclass</th>\n",
       "      <th>SibSp</th>\n",
       "      <th>Survived</th>\n",
       "      <th>C</th>\n",
       "      <th>Q</th>\n",
       "      <th>S</th>\n",
       "      <th>Cabin_letter</th>\n",
       "      <th>title</th>\n",
       "      <th>sex</th>\n",
       "      <th>Fare_bin_id</th>\n",
       "      <th>Fare_0</th>\n",
       "      <th>Fare_1</th>\n",
       "      <th>Fare_2</th>\n",
       "      <th>Fare_3</th>\n",
       "      <th>Fare_4</th>\n",
       "      <th>Pclass_Fare_Category2</th>\n",
       "    </tr>\n",
       "  </thead>\n",
       "  <tbody>\n",
       "    <tr>\n",
       "      <th>0</th>\n",
       "      <td>22.0</td>\n",
       "      <td>U0</td>\n",
       "      <td>0</td>\n",
       "      <td>3</td>\n",
       "      <td>1</td>\n",
       "      <td>0</td>\n",
       "      <td>0</td>\n",
       "      <td>0</td>\n",
       "      <td>1</td>\n",
       "      <td>0</td>\n",
       "      <td>0</td>\n",
       "      <td>1</td>\n",
       "      <td>0</td>\n",
       "      <td>1</td>\n",
       "      <td>0</td>\n",
       "      <td>0</td>\n",
       "      <td>0</td>\n",
       "      <td>0</td>\n",
       "      <td>5</td>\n",
       "    </tr>\n",
       "    <tr>\n",
       "      <th>1</th>\n",
       "      <td>38.0</td>\n",
       "      <td>C85</td>\n",
       "      <td>0</td>\n",
       "      <td>1</td>\n",
       "      <td>1</td>\n",
       "      <td>1</td>\n",
       "      <td>1</td>\n",
       "      <td>0</td>\n",
       "      <td>0</td>\n",
       "      <td>1</td>\n",
       "      <td>1</td>\n",
       "      <td>0</td>\n",
       "      <td>1</td>\n",
       "      <td>0</td>\n",
       "      <td>1</td>\n",
       "      <td>0</td>\n",
       "      <td>0</td>\n",
       "      <td>0</td>\n",
       "      <td>1</td>\n",
       "    </tr>\n",
       "    <tr>\n",
       "      <th>2</th>\n",
       "      <td>26.0</td>\n",
       "      <td>U0</td>\n",
       "      <td>0</td>\n",
       "      <td>3</td>\n",
       "      <td>0</td>\n",
       "      <td>1</td>\n",
       "      <td>0</td>\n",
       "      <td>0</td>\n",
       "      <td>1</td>\n",
       "      <td>0</td>\n",
       "      <td>2</td>\n",
       "      <td>0</td>\n",
       "      <td>2</td>\n",
       "      <td>0</td>\n",
       "      <td>0</td>\n",
       "      <td>1</td>\n",
       "      <td>0</td>\n",
       "      <td>0</td>\n",
       "      <td>5</td>\n",
       "    </tr>\n",
       "    <tr>\n",
       "      <th>3</th>\n",
       "      <td>35.0</td>\n",
       "      <td>C123</td>\n",
       "      <td>0</td>\n",
       "      <td>1</td>\n",
       "      <td>1</td>\n",
       "      <td>1</td>\n",
       "      <td>0</td>\n",
       "      <td>0</td>\n",
       "      <td>1</td>\n",
       "      <td>1</td>\n",
       "      <td>1</td>\n",
       "      <td>0</td>\n",
       "      <td>1</td>\n",
       "      <td>0</td>\n",
       "      <td>1</td>\n",
       "      <td>0</td>\n",
       "      <td>0</td>\n",
       "      <td>0</td>\n",
       "      <td>1</td>\n",
       "    </tr>\n",
       "    <tr>\n",
       "      <th>4</th>\n",
       "      <td>35.0</td>\n",
       "      <td>U0</td>\n",
       "      <td>0</td>\n",
       "      <td>3</td>\n",
       "      <td>0</td>\n",
       "      <td>0</td>\n",
       "      <td>0</td>\n",
       "      <td>0</td>\n",
       "      <td>1</td>\n",
       "      <td>0</td>\n",
       "      <td>0</td>\n",
       "      <td>1</td>\n",
       "      <td>2</td>\n",
       "      <td>0</td>\n",
       "      <td>0</td>\n",
       "      <td>1</td>\n",
       "      <td>0</td>\n",
       "      <td>0</td>\n",
       "      <td>5</td>\n",
       "    </tr>\n",
       "  </tbody>\n",
       "</table>\n",
       "</div>"
      ],
      "text/plain": [
       "    Age Cabin  Parch  Pclass  SibSp  Survived  C  Q  S  Cabin_letter  title  \\\n",
       "0  22.0    U0      0       3      1         0  0  0  1             0      0   \n",
       "1  38.0   C85      0       1      1         1  1  0  0             1      1   \n",
       "2  26.0    U0      0       3      0         1  0  0  1             0      2   \n",
       "3  35.0  C123      0       1      1         1  0  0  1             1      1   \n",
       "4  35.0    U0      0       3      0         0  0  0  1             0      0   \n",
       "\n",
       "   sex  Fare_bin_id  Fare_0  Fare_1  Fare_2  Fare_3  Fare_4  \\\n",
       "0    1            0       1       0       0       0       0   \n",
       "1    0            1       0       1       0       0       0   \n",
       "2    0            2       0       0       1       0       0   \n",
       "3    0            1       0       1       0       0       0   \n",
       "4    1            2       0       0       1       0       0   \n",
       "\n",
       "   Pclass_Fare_Category2  \n",
       "0                      5  \n",
       "1                      1  \n",
       "2                      5  \n",
       "3                      1  \n",
       "4                      5  "
      ]
     },
     "execution_count": 5,
     "metadata": {},
     "output_type": "execute_result"
    }
   ],
   "source": [
    "df.head()"
   ]
  },
  {
   "cell_type": "code",
   "execution_count": 6,
   "metadata": {
    "ExecuteTime": {
     "end_time": "2019-11-30T14:27:02.963441Z",
     "start_time": "2019-11-30T14:27:02.957420Z"
    }
   },
   "outputs": [],
   "source": [
    "missing_age_train = df[df['Age'].notnull()]\n",
    "missing_age_test = df[df['Age'].isnull()]"
   ]
  },
  {
   "cell_type": "code",
   "execution_count": 7,
   "metadata": {
    "ExecuteTime": {
     "end_time": "2019-11-30T14:27:05.254370Z",
     "start_time": "2019-11-30T14:27:05.232433Z"
    }
   },
   "outputs": [
    {
     "data": {
      "text/html": [
       "<div>\n",
       "<style scoped>\n",
       "    .dataframe tbody tr th:only-of-type {\n",
       "        vertical-align: middle;\n",
       "    }\n",
       "\n",
       "    .dataframe tbody tr th {\n",
       "        vertical-align: top;\n",
       "    }\n",
       "\n",
       "    .dataframe thead th {\n",
       "        text-align: right;\n",
       "    }\n",
       "</style>\n",
       "<table border=\"1\" class=\"dataframe\">\n",
       "  <thead>\n",
       "    <tr style=\"text-align: right;\">\n",
       "      <th></th>\n",
       "      <th>Age</th>\n",
       "      <th>Cabin</th>\n",
       "      <th>Parch</th>\n",
       "      <th>Pclass</th>\n",
       "      <th>SibSp</th>\n",
       "      <th>Survived</th>\n",
       "      <th>C</th>\n",
       "      <th>Q</th>\n",
       "      <th>S</th>\n",
       "      <th>Cabin_letter</th>\n",
       "      <th>title</th>\n",
       "      <th>sex</th>\n",
       "      <th>Fare_bin_id</th>\n",
       "      <th>Fare_0</th>\n",
       "      <th>Fare_1</th>\n",
       "      <th>Fare_2</th>\n",
       "      <th>Fare_3</th>\n",
       "      <th>Fare_4</th>\n",
       "      <th>Pclass_Fare_Category2</th>\n",
       "    </tr>\n",
       "  </thead>\n",
       "  <tbody>\n",
       "    <tr>\n",
       "      <th>0</th>\n",
       "      <td>22.0</td>\n",
       "      <td>U0</td>\n",
       "      <td>0</td>\n",
       "      <td>3</td>\n",
       "      <td>1</td>\n",
       "      <td>0</td>\n",
       "      <td>0</td>\n",
       "      <td>0</td>\n",
       "      <td>1</td>\n",
       "      <td>0</td>\n",
       "      <td>0</td>\n",
       "      <td>1</td>\n",
       "      <td>0</td>\n",
       "      <td>1</td>\n",
       "      <td>0</td>\n",
       "      <td>0</td>\n",
       "      <td>0</td>\n",
       "      <td>0</td>\n",
       "      <td>5</td>\n",
       "    </tr>\n",
       "    <tr>\n",
       "      <th>1</th>\n",
       "      <td>38.0</td>\n",
       "      <td>C85</td>\n",
       "      <td>0</td>\n",
       "      <td>1</td>\n",
       "      <td>1</td>\n",
       "      <td>1</td>\n",
       "      <td>1</td>\n",
       "      <td>0</td>\n",
       "      <td>0</td>\n",
       "      <td>1</td>\n",
       "      <td>1</td>\n",
       "      <td>0</td>\n",
       "      <td>1</td>\n",
       "      <td>0</td>\n",
       "      <td>1</td>\n",
       "      <td>0</td>\n",
       "      <td>0</td>\n",
       "      <td>0</td>\n",
       "      <td>1</td>\n",
       "    </tr>\n",
       "    <tr>\n",
       "      <th>2</th>\n",
       "      <td>26.0</td>\n",
       "      <td>U0</td>\n",
       "      <td>0</td>\n",
       "      <td>3</td>\n",
       "      <td>0</td>\n",
       "      <td>1</td>\n",
       "      <td>0</td>\n",
       "      <td>0</td>\n",
       "      <td>1</td>\n",
       "      <td>0</td>\n",
       "      <td>2</td>\n",
       "      <td>0</td>\n",
       "      <td>2</td>\n",
       "      <td>0</td>\n",
       "      <td>0</td>\n",
       "      <td>1</td>\n",
       "      <td>0</td>\n",
       "      <td>0</td>\n",
       "      <td>5</td>\n",
       "    </tr>\n",
       "    <tr>\n",
       "      <th>3</th>\n",
       "      <td>35.0</td>\n",
       "      <td>C123</td>\n",
       "      <td>0</td>\n",
       "      <td>1</td>\n",
       "      <td>1</td>\n",
       "      <td>1</td>\n",
       "      <td>0</td>\n",
       "      <td>0</td>\n",
       "      <td>1</td>\n",
       "      <td>1</td>\n",
       "      <td>1</td>\n",
       "      <td>0</td>\n",
       "      <td>1</td>\n",
       "      <td>0</td>\n",
       "      <td>1</td>\n",
       "      <td>0</td>\n",
       "      <td>0</td>\n",
       "      <td>0</td>\n",
       "      <td>1</td>\n",
       "    </tr>\n",
       "    <tr>\n",
       "      <th>4</th>\n",
       "      <td>35.0</td>\n",
       "      <td>U0</td>\n",
       "      <td>0</td>\n",
       "      <td>3</td>\n",
       "      <td>0</td>\n",
       "      <td>0</td>\n",
       "      <td>0</td>\n",
       "      <td>0</td>\n",
       "      <td>1</td>\n",
       "      <td>0</td>\n",
       "      <td>0</td>\n",
       "      <td>1</td>\n",
       "      <td>2</td>\n",
       "      <td>0</td>\n",
       "      <td>0</td>\n",
       "      <td>1</td>\n",
       "      <td>0</td>\n",
       "      <td>0</td>\n",
       "      <td>5</td>\n",
       "    </tr>\n",
       "  </tbody>\n",
       "</table>\n",
       "</div>"
      ],
      "text/plain": [
       "    Age Cabin  Parch  Pclass  SibSp  Survived  C  Q  S  Cabin_letter  title  \\\n",
       "0  22.0    U0      0       3      1         0  0  0  1             0      0   \n",
       "1  38.0   C85      0       1      1         1  1  0  0             1      1   \n",
       "2  26.0    U0      0       3      0         1  0  0  1             0      2   \n",
       "3  35.0  C123      0       1      1         1  0  0  1             1      1   \n",
       "4  35.0    U0      0       3      0         0  0  0  1             0      0   \n",
       "\n",
       "   sex  Fare_bin_id  Fare_0  Fare_1  Fare_2  Fare_3  Fare_4  \\\n",
       "0    1            0       1       0       0       0       0   \n",
       "1    0            1       0       1       0       0       0   \n",
       "2    0            2       0       0       1       0       0   \n",
       "3    0            1       0       1       0       0       0   \n",
       "4    1            2       0       0       1       0       0   \n",
       "\n",
       "   Pclass_Fare_Category2  \n",
       "0                      5  \n",
       "1                      1  \n",
       "2                      5  \n",
       "3                      1  \n",
       "4                      5  "
      ]
     },
     "execution_count": 7,
     "metadata": {},
     "output_type": "execute_result"
    }
   ],
   "source": [
    "missing_age_train.head()"
   ]
  },
  {
   "cell_type": "code",
   "execution_count": 8,
   "metadata": {
    "ExecuteTime": {
     "end_time": "2019-11-30T14:27:07.452361Z",
     "start_time": "2019-11-30T14:27:07.447335Z"
    }
   },
   "outputs": [],
   "source": [
    "X_train = missing_age_train[['Cabin_letter', 'C', 'Q', 'S', 'title', 'SibSp', 'Fare_0', 'Fare_1', 'Fare_2', 'Fare_3', 'Fare_4', 'Pclass_Fare_Category2']]\n",
    "y_train = missing_age_train['Age']"
   ]
  },
  {
   "cell_type": "code",
   "execution_count": 9,
   "metadata": {
    "ExecuteTime": {
     "end_time": "2019-11-30T14:27:08.849338Z",
     "start_time": "2019-11-30T14:27:08.844357Z"
    }
   },
   "outputs": [],
   "source": [
    "X_test = missing_age_test[['Cabin_letter', 'C', 'Q', 'S', 'title', 'SibSp', 'Fare_0', 'Fare_1', 'Fare_2', 'Fare_3', 'Fare_4', 'Pclass_Fare_Category2']]"
   ]
  },
  {
   "cell_type": "code",
   "execution_count": 10,
   "metadata": {
    "ExecuteTime": {
     "end_time": "2019-11-30T14:27:12.132387Z",
     "start_time": "2019-11-30T14:27:10.831385Z"
    }
   },
   "outputs": [],
   "source": [
    "from sklearn.ensemble import RandomForestRegressor\n",
    "from sklearn.model_selection import GridSearchCV"
   ]
  },
  {
   "cell_type": "code",
   "execution_count": 11,
   "metadata": {
    "ExecuteTime": {
     "end_time": "2019-11-30T14:27:13.684742Z",
     "start_time": "2019-11-30T14:27:13.677762Z"
    }
   },
   "outputs": [],
   "source": [
    "RF_para_grid = {'n_estimators' : [150, 200, 250,300], \n",
    "                'criterion': ['mse'],\n",
    "                'max_depth' : [6,7,8],\n",
    "                'max_features': ['auto',6,7,8]}"
   ]
  },
  {
   "cell_type": "code",
   "execution_count": 12,
   "metadata": {
    "ExecuteTime": {
     "end_time": "2019-11-30T14:28:33.543849Z",
     "start_time": "2019-11-30T14:27:41.969961Z"
    }
   },
   "outputs": [
    {
     "data": {
      "text/plain": [
       "GridSearchCV(cv=5, error_score='raise-deprecating',\n",
       "       estimator=RandomForestRegressor(bootstrap=True, criterion='mse', max_depth=None,\n",
       "           max_features='auto', max_leaf_nodes=None,\n",
       "           min_impurity_decrease=0.0, min_impurity_split=None,\n",
       "           min_samples_leaf=1, min_samples_split=2,\n",
       "           min_weight_fraction_leaf=0.0, n_estimators='warn', n_jobs=None,\n",
       "           oob_score=False, random_state=None, verbose=0, warm_start=False),\n",
       "       fit_params=None, iid='warn', n_jobs=None,\n",
       "       param_grid={'n_estimators': [150, 200, 250, 300], 'criterion': ['mse'], 'max_depth': [6, 7, 8], 'max_features': ['auto', 6, 7, 8]},\n",
       "       pre_dispatch='2*n_jobs', refit=True, return_train_score='warn',\n",
       "       scoring='neg_mean_squared_error', verbose=0)"
      ]
     },
     "execution_count": 12,
     "metadata": {},
     "output_type": "execute_result"
    }
   ],
   "source": [
    "RF = RandomForestRegressor() \n",
    "RF_Grid = GridSearchCV(RF, RF_para_grid, cv = 5, scoring = 'neg_mean_squared_error')\n",
    "RF_Grid.fit(X_train, y_train)"
   ]
  },
  {
   "cell_type": "code",
   "execution_count": 13,
   "metadata": {
    "ExecuteTime": {
     "end_time": "2019-11-30T14:28:47.202946Z",
     "start_time": "2019-11-30T14:28:47.194967Z"
    }
   },
   "outputs": [
    {
     "name": "stdout",
     "output_type": "stream",
     "text": [
      "Age Feature Best RF Params:{'criterion': 'mse', 'max_depth': 7, 'max_features': 6, 'n_estimators': 200}\n",
      "Age Feature Best Score:-118.67142752855567\n"
     ]
    }
   ],
   "source": [
    "print('Age Feature Best RF Params:' + str(RF_Grid.best_params_))\n",
    "print('Age Feature Best Score:' + str(RF_Grid.best_score_))"
   ]
  },
  {
   "cell_type": "code",
   "execution_count": 14,
   "metadata": {
    "ExecuteTime": {
     "end_time": "2019-11-30T14:28:51.113166Z",
     "start_time": "2019-11-30T14:28:51.103196Z"
    }
   },
   "outputs": [
    {
     "name": "stderr",
     "output_type": "stream",
     "text": [
      "C:\\Users\\naive\\Anaconda3\\lib\\site-packages\\sklearn\\utils\\deprecation.py:125: FutureWarning: You are accessing a training score ('split0_train_score'), which will not be available by default any more in 0.21. If you need training scores, please set return_train_score=True\n",
      "  warnings.warn(*warn_args, **warn_kwargs)\n",
      "C:\\Users\\naive\\Anaconda3\\lib\\site-packages\\sklearn\\utils\\deprecation.py:125: FutureWarning: You are accessing a training score ('split1_train_score'), which will not be available by default any more in 0.21. If you need training scores, please set return_train_score=True\n",
      "  warnings.warn(*warn_args, **warn_kwargs)\n",
      "C:\\Users\\naive\\Anaconda3\\lib\\site-packages\\sklearn\\utils\\deprecation.py:125: FutureWarning: You are accessing a training score ('split2_train_score'), which will not be available by default any more in 0.21. If you need training scores, please set return_train_score=True\n",
      "  warnings.warn(*warn_args, **warn_kwargs)\n",
      "C:\\Users\\naive\\Anaconda3\\lib\\site-packages\\sklearn\\utils\\deprecation.py:125: FutureWarning: You are accessing a training score ('split3_train_score'), which will not be available by default any more in 0.21. If you need training scores, please set return_train_score=True\n",
      "  warnings.warn(*warn_args, **warn_kwargs)\n",
      "C:\\Users\\naive\\Anaconda3\\lib\\site-packages\\sklearn\\utils\\deprecation.py:125: FutureWarning: You are accessing a training score ('split4_train_score'), which will not be available by default any more in 0.21. If you need training scores, please set return_train_score=True\n",
      "  warnings.warn(*warn_args, **warn_kwargs)\n",
      "C:\\Users\\naive\\Anaconda3\\lib\\site-packages\\sklearn\\utils\\deprecation.py:125: FutureWarning: You are accessing a training score ('mean_train_score'), which will not be available by default any more in 0.21. If you need training scores, please set return_train_score=True\n",
      "  warnings.warn(*warn_args, **warn_kwargs)\n",
      "C:\\Users\\naive\\Anaconda3\\lib\\site-packages\\sklearn\\utils\\deprecation.py:125: FutureWarning: You are accessing a training score ('std_train_score'), which will not be available by default any more in 0.21. If you need training scores, please set return_train_score=True\n",
      "  warnings.warn(*warn_args, **warn_kwargs)\n"
     ]
    }
   ],
   "source": [
    "RF_Grid_Result = pd.DataFrame(RF_Grid.cv_results_)"
   ]
  },
  {
   "cell_type": "code",
   "execution_count": 15,
   "metadata": {
    "ExecuteTime": {
     "end_time": "2019-11-30T14:28:55.254615Z",
     "start_time": "2019-11-30T14:28:55.248598Z"
    }
   },
   "outputs": [],
   "source": [
    "RF_Grid_Result = RF_Grid_Result[['params', 'rank_test_score', 'mean_test_score', 'mean_train_score']]"
   ]
  },
  {
   "cell_type": "code",
   "execution_count": 16,
   "metadata": {
    "ExecuteTime": {
     "end_time": "2019-11-30T14:28:56.675037Z",
     "start_time": "2019-11-30T14:28:56.630194Z"
    }
   },
   "outputs": [],
   "source": [
    "RF_Grid_Result.sort_values('rank_test_score', axis=0, ascending=True, inplace=True)"
   ]
  },
  {
   "cell_type": "code",
   "execution_count": 17,
   "metadata": {
    "ExecuteTime": {
     "end_time": "2019-11-30T14:28:57.902955Z",
     "start_time": "2019-11-30T14:28:57.892982Z"
    }
   },
   "outputs": [
    {
     "data": {
      "text/html": [
       "<div>\n",
       "<style scoped>\n",
       "    .dataframe tbody tr th:only-of-type {\n",
       "        vertical-align: middle;\n",
       "    }\n",
       "\n",
       "    .dataframe tbody tr th {\n",
       "        vertical-align: top;\n",
       "    }\n",
       "\n",
       "    .dataframe thead th {\n",
       "        text-align: right;\n",
       "    }\n",
       "</style>\n",
       "<table border=\"1\" class=\"dataframe\">\n",
       "  <thead>\n",
       "    <tr style=\"text-align: right;\">\n",
       "      <th></th>\n",
       "      <th>params</th>\n",
       "      <th>rank_test_score</th>\n",
       "      <th>mean_test_score</th>\n",
       "      <th>mean_train_score</th>\n",
       "    </tr>\n",
       "  </thead>\n",
       "  <tbody>\n",
       "    <tr>\n",
       "      <th>21</th>\n",
       "      <td>{'criterion': 'mse', 'max_depth': 7, 'max_feat...</td>\n",
       "      <td>1</td>\n",
       "      <td>-118.671428</td>\n",
       "      <td>-90.889600</td>\n",
       "    </tr>\n",
       "    <tr>\n",
       "      <th>26</th>\n",
       "      <td>{'criterion': 'mse', 'max_depth': 7, 'max_feat...</td>\n",
       "      <td>2</td>\n",
       "      <td>-118.863129</td>\n",
       "      <td>-90.194273</td>\n",
       "    </tr>\n",
       "    <tr>\n",
       "      <th>9</th>\n",
       "      <td>{'criterion': 'mse', 'max_depth': 6, 'max_feat...</td>\n",
       "      <td>3</td>\n",
       "      <td>-118.910400</td>\n",
       "      <td>-97.466195</td>\n",
       "    </tr>\n",
       "    <tr>\n",
       "      <th>23</th>\n",
       "      <td>{'criterion': 'mse', 'max_depth': 7, 'max_feat...</td>\n",
       "      <td>4</td>\n",
       "      <td>-118.993780</td>\n",
       "      <td>-91.065944</td>\n",
       "    </tr>\n",
       "    <tr>\n",
       "      <th>27</th>\n",
       "      <td>{'criterion': 'mse', 'max_depth': 7, 'max_feat...</td>\n",
       "      <td>5</td>\n",
       "      <td>-119.050369</td>\n",
       "      <td>-90.228684</td>\n",
       "    </tr>\n",
       "  </tbody>\n",
       "</table>\n",
       "</div>"
      ],
      "text/plain": [
       "                                               params  rank_test_score  \\\n",
       "21  {'criterion': 'mse', 'max_depth': 7, 'max_feat...                1   \n",
       "26  {'criterion': 'mse', 'max_depth': 7, 'max_feat...                2   \n",
       "9   {'criterion': 'mse', 'max_depth': 6, 'max_feat...                3   \n",
       "23  {'criterion': 'mse', 'max_depth': 7, 'max_feat...                4   \n",
       "27  {'criterion': 'mse', 'max_depth': 7, 'max_feat...                5   \n",
       "\n",
       "    mean_test_score  mean_train_score  \n",
       "21      -118.671428        -90.889600  \n",
       "26      -118.863129        -90.194273  \n",
       "9       -118.910400        -97.466195  \n",
       "23      -118.993780        -91.065944  \n",
       "27      -119.050369        -90.228684  "
      ]
     },
     "execution_count": 17,
     "metadata": {},
     "output_type": "execute_result"
    }
   ],
   "source": [
    "RF_Grid_Result.head()"
   ]
  },
  {
   "cell_type": "code",
   "execution_count": 18,
   "metadata": {
    "ExecuteTime": {
     "end_time": "2019-11-30T14:29:20.285091Z",
     "start_time": "2019-11-30T14:29:20.273130Z"
    }
   },
   "outputs": [],
   "source": [
    "RF_Grid_Result.to_csv('RF_Grid_Result.csv')"
   ]
  },
  {
   "cell_type": "code",
   "execution_count": 19,
   "metadata": {
    "ExecuteTime": {
     "end_time": "2019-11-30T14:29:21.510457Z",
     "start_time": "2019-11-30T14:29:21.504459Z"
    }
   },
   "outputs": [],
   "source": [
    "RF_Grid_Best = RandomForestRegressor(n_estimators = 150, criterion='mse', max_depth = 7, max_features = 6)"
   ]
  },
  {
   "cell_type": "code",
   "execution_count": 20,
   "metadata": {
    "ExecuteTime": {
     "end_time": "2019-11-30T14:29:25.214262Z",
     "start_time": "2019-11-30T14:29:25.075633Z"
    }
   },
   "outputs": [
    {
     "data": {
      "text/plain": [
       "RandomForestRegressor(bootstrap=True, criterion='mse', max_depth=7,\n",
       "           max_features=6, max_leaf_nodes=None, min_impurity_decrease=0.0,\n",
       "           min_impurity_split=None, min_samples_leaf=1,\n",
       "           min_samples_split=2, min_weight_fraction_leaf=0.0,\n",
       "           n_estimators=150, n_jobs=None, oob_score=False,\n",
       "           random_state=None, verbose=0, warm_start=False)"
      ]
     },
     "execution_count": 20,
     "metadata": {},
     "output_type": "execute_result"
    }
   ],
   "source": [
    "RF_Grid_Best.fit(X_train, y_train)"
   ]
  },
  {
   "cell_type": "code",
   "execution_count": 21,
   "metadata": {
    "ExecuteTime": {
     "end_time": "2019-11-30T14:29:45.794901Z",
     "start_time": "2019-11-30T14:29:45.789918Z"
    }
   },
   "outputs": [],
   "source": [
    "from sklearn.externals import joblib"
   ]
  },
  {
   "cell_type": "code",
   "execution_count": 23,
   "metadata": {
    "ExecuteTime": {
     "end_time": "2019-11-30T14:31:12.410496Z",
     "start_time": "2019-11-30T14:31:11.997811Z"
    }
   },
   "outputs": [
    {
     "data": {
      "text/plain": [
       "['RF_BEST_AGE.pkl']"
      ]
     },
     "execution_count": 23,
     "metadata": {},
     "output_type": "execute_result"
    }
   ],
   "source": [
    "joblib.dump(RF_Grid_Best, 'RF_BEST_AGE.pkl')"
   ]
  },
  {
   "cell_type": "code",
   "execution_count": 24,
   "metadata": {
    "ExecuteTime": {
     "end_time": "2019-11-30T14:31:25.121301Z",
     "start_time": "2019-11-30T14:31:25.003943Z"
    }
   },
   "outputs": [],
   "source": [
    "from sklearn.svm import SVR"
   ]
  },
  {
   "cell_type": "code",
   "execution_count": 25,
   "metadata": {
    "ExecuteTime": {
     "end_time": "2019-11-30T14:31:28.532407Z",
     "start_time": "2019-11-30T14:31:28.523389Z"
    }
   },
   "outputs": [],
   "source": [
    "SVR_Grid_Param = [{'kernel' : ['rbf'], 'gamma': ['scale'],'C': [0.01, 0.1, 1, 5, 10, 20, 100]},\n",
    "                  {'kernel' : ['poly'], 'degree': [4, 5, 6, 7], 'gamma': ['scale'],'coef0':[-1, 0, 1], 'C':[0.01, 0.1, 1, 5, 10, 20, 100]\n",
    "                  }]"
   ]
  },
  {
   "cell_type": "code",
   "execution_count": 26,
   "metadata": {
    "ExecuteTime": {
     "end_time": "2019-11-30T14:31:31.741695Z",
     "start_time": "2019-11-30T14:31:31.737741Z"
    }
   },
   "outputs": [],
   "source": [
    "svr = SVR()"
   ]
  },
  {
   "cell_type": "code",
   "execution_count": 27,
   "metadata": {
    "ExecuteTime": {
     "end_time": "2019-11-30T14:34:45.570315Z",
     "start_time": "2019-11-30T14:31:43.148177Z"
    },
    "scrolled": true
   },
   "outputs": [
    {
     "name": "stderr",
     "output_type": "stream",
     "text": [
      "C:\\Users\\naive\\Anaconda3\\lib\\site-packages\\sklearn\\model_selection\\_search.py:841: DeprecationWarning: The default of the `iid` parameter will change from True to False in version 0.22 and will be removed in 0.24. This will change numeric results when test-set sizes are unequal.\n",
      "  DeprecationWarning)\n"
     ]
    },
    {
     "data": {
      "text/plain": [
       "GridSearchCV(cv=5, error_score='raise-deprecating',\n",
       "       estimator=SVR(C=1.0, cache_size=200, coef0=0.0, degree=3, epsilon=0.1,\n",
       "  gamma='auto_deprecated', kernel='rbf', max_iter=-1, shrinking=True,\n",
       "  tol=0.001, verbose=False),\n",
       "       fit_params=None, iid='warn', n_jobs=None,\n",
       "       param_grid=[{'kernel': ['rbf'], 'gamma': ['scale'], 'C': [0.01, 0.1, 1, 5, 10, 20, 100]}, {'kernel': ['poly'], 'degree': [4, 5, 6, 7], 'gamma': ['scale'], 'coef0': [-1, 0, 1], 'C': [0.01, 0.1, 1, 5, 10, 20, 100]}],\n",
       "       pre_dispatch='2*n_jobs', refit=True, return_train_score='warn',\n",
       "       scoring='neg_mean_squared_error', verbose=0)"
      ]
     },
     "execution_count": 27,
     "metadata": {},
     "output_type": "execute_result"
    }
   ],
   "source": [
    "SVR_Grid = GridSearchCV(svr, SVR_Grid_Param, cv = 5, scoring = 'neg_mean_squared_error')\n",
    "SVR_Grid.fit(X_train, y_train)"
   ]
  },
  {
   "cell_type": "code",
   "execution_count": 126,
   "metadata": {
    "ExecuteTime": {
     "end_time": "2019-11-30T01:40:56.037198Z",
     "start_time": "2019-11-30T01:40:56.031226Z"
    }
   },
   "outputs": [
    {
     "name": "stdout",
     "output_type": "stream",
     "text": [
      "Age Feature Best SVR Params:{'C': 100, 'gamma': 'scale', 'kernel': 'rbf'}\n",
      "Age Feature Best Score:-134.94492204126803\n"
     ]
    }
   ],
   "source": [
    "print('Age Feature Best SVR Params:' + str(SVC_Grid.best_params_))\n",
    "print('Age Feature Best Score:' + str(SVC_Grid.best_score_))"
   ]
  },
  {
   "cell_type": "code",
   "execution_count": 29,
   "metadata": {
    "ExecuteTime": {
     "end_time": "2019-11-30T14:38:46.462030Z",
     "start_time": "2019-11-30T14:38:46.456057Z"
    }
   },
   "outputs": [
    {
     "name": "stderr",
     "output_type": "stream",
     "text": [
      "C:\\Users\\naive\\Anaconda3\\lib\\site-packages\\sklearn\\utils\\deprecation.py:125: FutureWarning: You are accessing a training score ('split0_train_score'), which will not be available by default any more in 0.21. If you need training scores, please set return_train_score=True\n",
      "  warnings.warn(*warn_args, **warn_kwargs)\n",
      "C:\\Users\\naive\\Anaconda3\\lib\\site-packages\\sklearn\\utils\\deprecation.py:125: FutureWarning: You are accessing a training score ('split1_train_score'), which will not be available by default any more in 0.21. If you need training scores, please set return_train_score=True\n",
      "  warnings.warn(*warn_args, **warn_kwargs)\n",
      "C:\\Users\\naive\\Anaconda3\\lib\\site-packages\\sklearn\\utils\\deprecation.py:125: FutureWarning: You are accessing a training score ('split2_train_score'), which will not be available by default any more in 0.21. If you need training scores, please set return_train_score=True\n",
      "  warnings.warn(*warn_args, **warn_kwargs)\n",
      "C:\\Users\\naive\\Anaconda3\\lib\\site-packages\\sklearn\\utils\\deprecation.py:125: FutureWarning: You are accessing a training score ('split3_train_score'), which will not be available by default any more in 0.21. If you need training scores, please set return_train_score=True\n",
      "  warnings.warn(*warn_args, **warn_kwargs)\n",
      "C:\\Users\\naive\\Anaconda3\\lib\\site-packages\\sklearn\\utils\\deprecation.py:125: FutureWarning: You are accessing a training score ('split4_train_score'), which will not be available by default any more in 0.21. If you need training scores, please set return_train_score=True\n",
      "  warnings.warn(*warn_args, **warn_kwargs)\n",
      "C:\\Users\\naive\\Anaconda3\\lib\\site-packages\\sklearn\\utils\\deprecation.py:125: FutureWarning: You are accessing a training score ('mean_train_score'), which will not be available by default any more in 0.21. If you need training scores, please set return_train_score=True\n",
      "  warnings.warn(*warn_args, **warn_kwargs)\n",
      "C:\\Users\\naive\\Anaconda3\\lib\\site-packages\\sklearn\\utils\\deprecation.py:125: FutureWarning: You are accessing a training score ('std_train_score'), which will not be available by default any more in 0.21. If you need training scores, please set return_train_score=True\n",
      "  warnings.warn(*warn_args, **warn_kwargs)\n"
     ]
    }
   ],
   "source": [
    "SVR_Grid_Result = pd.DataFrame(SVR_Grid.cv_results_)"
   ]
  },
  {
   "cell_type": "code",
   "execution_count": 30,
   "metadata": {
    "ExecuteTime": {
     "end_time": "2019-11-30T14:38:55.124776Z",
     "start_time": "2019-11-30T14:38:55.117837Z"
    }
   },
   "outputs": [],
   "source": [
    "SVR_Grid_Result = SVR_Grid_Result[['params', 'rank_test_score', 'mean_test_score', 'mean_train_score']]"
   ]
  },
  {
   "cell_type": "code",
   "execution_count": 31,
   "metadata": {
    "ExecuteTime": {
     "end_time": "2019-11-30T14:38:56.736530Z",
     "start_time": "2019-11-30T14:38:56.553450Z"
    }
   },
   "outputs": [],
   "source": [
    "SVR_Grid_Result.sort_values('rank_test_score', axis=0, ascending=True, inplace=True)"
   ]
  },
  {
   "cell_type": "code",
   "execution_count": 32,
   "metadata": {
    "ExecuteTime": {
     "end_time": "2019-11-30T14:39:01.774413Z",
     "start_time": "2019-11-30T14:39:01.754466Z"
    }
   },
   "outputs": [
    {
     "data": {
      "text/html": [
       "<div>\n",
       "<style scoped>\n",
       "    .dataframe tbody tr th:only-of-type {\n",
       "        vertical-align: middle;\n",
       "    }\n",
       "\n",
       "    .dataframe tbody tr th {\n",
       "        vertical-align: top;\n",
       "    }\n",
       "\n",
       "    .dataframe thead th {\n",
       "        text-align: right;\n",
       "    }\n",
       "</style>\n",
       "<table border=\"1\" class=\"dataframe\">\n",
       "  <thead>\n",
       "    <tr style=\"text-align: right;\">\n",
       "      <th></th>\n",
       "      <th>params</th>\n",
       "      <th>rank_test_score</th>\n",
       "      <th>mean_test_score</th>\n",
       "      <th>mean_train_score</th>\n",
       "    </tr>\n",
       "  </thead>\n",
       "  <tbody>\n",
       "    <tr>\n",
       "      <th>6</th>\n",
       "      <td>{'C': 100, 'gamma': 'scale', 'kernel': 'rbf'}</td>\n",
       "      <td>1</td>\n",
       "      <td>-134.944922</td>\n",
       "      <td>-107.698185</td>\n",
       "    </tr>\n",
       "    <tr>\n",
       "      <th>51</th>\n",
       "      <td>{'C': 5, 'coef0': 1, 'degree': 4, 'gamma': 'sc...</td>\n",
       "      <td>2</td>\n",
       "      <td>-140.355832</td>\n",
       "      <td>-115.903465</td>\n",
       "    </tr>\n",
       "    <tr>\n",
       "      <th>29</th>\n",
       "      <td>{'C': 0.1, 'coef0': 1, 'degree': 6, 'gamma': '...</td>\n",
       "      <td>3</td>\n",
       "      <td>-140.550982</td>\n",
       "      <td>-121.779873</td>\n",
       "    </tr>\n",
       "    <tr>\n",
       "      <th>40</th>\n",
       "      <td>{'C': 1, 'coef0': 1, 'degree': 5, 'gamma': 'sc...</td>\n",
       "      <td>4</td>\n",
       "      <td>-140.609994</td>\n",
       "      <td>-115.669851</td>\n",
       "    </tr>\n",
       "    <tr>\n",
       "      <th>5</th>\n",
       "      <td>{'C': 20, 'gamma': 'scale', 'kernel': 'rbf'}</td>\n",
       "      <td>5</td>\n",
       "      <td>-141.043206</td>\n",
       "      <td>-121.819869</td>\n",
       "    </tr>\n",
       "    <tr>\n",
       "      <th>39</th>\n",
       "      <td>{'C': 1, 'coef0': 1, 'degree': 4, 'gamma': 'sc...</td>\n",
       "      <td>6</td>\n",
       "      <td>-142.650359</td>\n",
       "      <td>-126.811376</td>\n",
       "    </tr>\n",
       "    <tr>\n",
       "      <th>63</th>\n",
       "      <td>{'C': 10, 'coef0': 1, 'degree': 4, 'gamma': 's...</td>\n",
       "      <td>7</td>\n",
       "      <td>-143.192659</td>\n",
       "      <td>-111.607325</td>\n",
       "    </tr>\n",
       "    <tr>\n",
       "      <th>4</th>\n",
       "      <td>{'C': 10, 'gamma': 'scale', 'kernel': 'rbf'}</td>\n",
       "      <td>8</td>\n",
       "      <td>-143.945107</td>\n",
       "      <td>-128.716422</td>\n",
       "    </tr>\n",
       "    <tr>\n",
       "      <th>28</th>\n",
       "      <td>{'C': 0.1, 'coef0': 1, 'degree': 5, 'gamma': '...</td>\n",
       "      <td>9</td>\n",
       "      <td>-144.733701</td>\n",
       "      <td>-131.884582</td>\n",
       "    </tr>\n",
       "    <tr>\n",
       "      <th>3</th>\n",
       "      <td>{'C': 5, 'gamma': 'scale', 'kernel': 'rbf'}</td>\n",
       "      <td>10</td>\n",
       "      <td>-147.415259</td>\n",
       "      <td>-135.911984</td>\n",
       "    </tr>\n",
       "  </tbody>\n",
       "</table>\n",
       "</div>"
      ],
      "text/plain": [
       "                                               params  rank_test_score  \\\n",
       "6       {'C': 100, 'gamma': 'scale', 'kernel': 'rbf'}                1   \n",
       "51  {'C': 5, 'coef0': 1, 'degree': 4, 'gamma': 'sc...                2   \n",
       "29  {'C': 0.1, 'coef0': 1, 'degree': 6, 'gamma': '...                3   \n",
       "40  {'C': 1, 'coef0': 1, 'degree': 5, 'gamma': 'sc...                4   \n",
       "5        {'C': 20, 'gamma': 'scale', 'kernel': 'rbf'}                5   \n",
       "39  {'C': 1, 'coef0': 1, 'degree': 4, 'gamma': 'sc...                6   \n",
       "63  {'C': 10, 'coef0': 1, 'degree': 4, 'gamma': 's...                7   \n",
       "4        {'C': 10, 'gamma': 'scale', 'kernel': 'rbf'}                8   \n",
       "28  {'C': 0.1, 'coef0': 1, 'degree': 5, 'gamma': '...                9   \n",
       "3         {'C': 5, 'gamma': 'scale', 'kernel': 'rbf'}               10   \n",
       "\n",
       "    mean_test_score  mean_train_score  \n",
       "6       -134.944922       -107.698185  \n",
       "51      -140.355832       -115.903465  \n",
       "29      -140.550982       -121.779873  \n",
       "40      -140.609994       -115.669851  \n",
       "5       -141.043206       -121.819869  \n",
       "39      -142.650359       -126.811376  \n",
       "63      -143.192659       -111.607325  \n",
       "4       -143.945107       -128.716422  \n",
       "28      -144.733701       -131.884582  \n",
       "3       -147.415259       -135.911984  "
      ]
     },
     "execution_count": 32,
     "metadata": {},
     "output_type": "execute_result"
    }
   ],
   "source": [
    "SVR_Grid_Result.head(10)"
   ]
  },
  {
   "cell_type": "code",
   "execution_count": 33,
   "metadata": {
    "ExecuteTime": {
     "end_time": "2019-11-30T14:39:07.257547Z",
     "start_time": "2019-11-30T14:39:07.250526Z"
    }
   },
   "outputs": [],
   "source": [
    "SVR_Grid_Result.to_csv('SVR_Grid_Result.csv')"
   ]
  },
  {
   "cell_type": "code",
   "execution_count": 34,
   "metadata": {
    "ExecuteTime": {
     "end_time": "2019-11-30T14:41:19.381487Z",
     "start_time": "2019-11-30T14:41:19.377426Z"
    }
   },
   "outputs": [],
   "source": [
    "SVR_Grid_Best = SVR(kernel = 'rbf', C = 100, gamma = 'scale') "
   ]
  },
  {
   "cell_type": "code",
   "execution_count": 35,
   "metadata": {
    "ExecuteTime": {
     "end_time": "2019-11-30T14:41:34.958397Z",
     "start_time": "2019-11-30T14:41:34.866644Z"
    }
   },
   "outputs": [
    {
     "data": {
      "text/plain": [
       "SVR(C=100, cache_size=200, coef0=0.0, degree=3, epsilon=0.1, gamma='scale',\n",
       "  kernel='rbf', max_iter=-1, shrinking=True, tol=0.001, verbose=False)"
      ]
     },
     "execution_count": 35,
     "metadata": {},
     "output_type": "execute_result"
    }
   ],
   "source": [
    "SVR_Grid_Best.fit(X_train, y_train)"
   ]
  },
  {
   "cell_type": "code",
   "execution_count": 36,
   "metadata": {
    "ExecuteTime": {
     "end_time": "2019-11-30T14:44:08.774340Z",
     "start_time": "2019-11-30T14:44:08.766359Z"
    }
   },
   "outputs": [
    {
     "data": {
      "text/plain": [
       "['SVR_BEST_AGE.pkl']"
      ]
     },
     "execution_count": 36,
     "metadata": {},
     "output_type": "execute_result"
    }
   ],
   "source": [
    "joblib.dump(SVR_Grid_Best, 'SVR_BEST_AGE.pkl')"
   ]
  },
  {
   "cell_type": "code",
   "execution_count": 37,
   "metadata": {
    "ExecuteTime": {
     "end_time": "2019-11-30T16:02:59.602891Z",
     "start_time": "2019-11-30T16:02:59.594910Z"
    }
   },
   "outputs": [],
   "source": [
    "from sklearn.ensemble import GradientBoostingRegressor"
   ]
  },
  {
   "cell_type": "code",
   "execution_count": 45,
   "metadata": {
    "ExecuteTime": {
     "end_time": "2019-11-30T16:36:59.085149Z",
     "start_time": "2019-11-30T16:36:59.074221Z"
    }
   },
   "outputs": [],
   "source": [
    "GBR_Grid_param = [{'loss' : ['ls'],\n",
    "                  'learning_rate' : [0.01, 0.1, 1],\n",
    "                  'n_estimators' : [100, 150, 200, 300, 350],\n",
    "                  'criterion': ['friedman_mse'],\n",
    "                  'max_depth': [5, 6, 7],\n",
    "                  'max_features': ['auto', 6,7,8]},\n",
    "                 {'loss' : ['lad'],\n",
    "                  'learning_rate' : [0.01, 0.1, 1],\n",
    "                  'n_estimators' : [100, 150, 200, 300, 350],\n",
    "                  'criterion': ['mae'],\n",
    "                  'max_depth': [ 5, 6, 7],\n",
    "                  'max_features': ['auto', 6,7,8]}\n",
    "                 ]"
   ]
  },
  {
   "cell_type": "code",
   "execution_count": 46,
   "metadata": {
    "ExecuteTime": {
     "end_time": "2019-11-30T16:37:00.975815Z",
     "start_time": "2019-11-30T16:37:00.970871Z"
    }
   },
   "outputs": [],
   "source": [
    "GBR = GradientBoostingRegressor(random_state = 42)\n",
    "GBR_grid = GridSearchCV(GBR, GBR_Grid_param, cv = 5, scoring = 'neg_mean_squared_error')"
   ]
  },
  {
   "cell_type": "code",
   "execution_count": 47,
   "metadata": {
    "ExecuteTime": {
     "end_time": "2019-11-30T17:25:34.470058Z",
     "start_time": "2019-11-30T16:37:02.404221Z"
    }
   },
   "outputs": [
    {
     "name": "stderr",
     "output_type": "stream",
     "text": [
      "C:\\Users\\naive\\Anaconda3\\lib\\site-packages\\sklearn\\model_selection\\_search.py:841: DeprecationWarning: The default of the `iid` parameter will change from True to False in version 0.22 and will be removed in 0.24. This will change numeric results when test-set sizes are unequal.\n",
      "  DeprecationWarning)\n"
     ]
    },
    {
     "data": {
      "text/plain": [
       "GridSearchCV(cv=5, error_score='raise-deprecating',\n",
       "       estimator=GradientBoostingRegressor(alpha=0.9, criterion='friedman_mse', init=None,\n",
       "             learning_rate=0.1, loss='ls', max_depth=3, max_features=None,\n",
       "             max_leaf_nodes=None, min_impurity_decrease=0.0,\n",
       "             min_impurity_split=None, min_samples_leaf=1,\n",
       "             min_sampl...te=42, subsample=1.0, tol=0.0001,\n",
       "             validation_fraction=0.1, verbose=0, warm_start=False),\n",
       "       fit_params=None, iid='warn', n_jobs=None,\n",
       "       param_grid=[{'loss': ['ls'], 'learning_rate': [0.01, 0.1, 1], 'n_estimators': [100, 150, 200, 300, 350], 'criterion': ['friedman_mse'], 'max_depth': [5, 6, 7], 'max_features': ['auto', 6, 7, 8]}, {'loss': ['lad'], 'learning_rate': [0.01, 0.1, 1], 'n_estimators': [100, 150, 200, 300, 350], 'criterion': ['mae'], 'max_depth': [5, 6, 7], 'max_features': ['auto', 6, 7, 8]}],\n",
       "       pre_dispatch='2*n_jobs', refit=True, return_train_score='warn',\n",
       "       scoring='neg_mean_squared_error', verbose=0)"
      ]
     },
     "execution_count": 47,
     "metadata": {},
     "output_type": "execute_result"
    }
   ],
   "source": [
    "GBR_grid.fit(X_train, y_train)"
   ]
  },
  {
   "cell_type": "code",
   "execution_count": 48,
   "metadata": {
    "ExecuteTime": {
     "end_time": "2019-11-30T17:27:08.067288Z",
     "start_time": "2019-11-30T17:27:07.912280Z"
    }
   },
   "outputs": [
    {
     "name": "stderr",
     "output_type": "stream",
     "text": [
      "C:\\Users\\naive\\Anaconda3\\lib\\site-packages\\sklearn\\utils\\deprecation.py:125: FutureWarning: You are accessing a training score ('split0_train_score'), which will not be available by default any more in 0.21. If you need training scores, please set return_train_score=True\n",
      "  warnings.warn(*warn_args, **warn_kwargs)\n",
      "C:\\Users\\naive\\Anaconda3\\lib\\site-packages\\sklearn\\utils\\deprecation.py:125: FutureWarning: You are accessing a training score ('split1_train_score'), which will not be available by default any more in 0.21. If you need training scores, please set return_train_score=True\n",
      "  warnings.warn(*warn_args, **warn_kwargs)\n",
      "C:\\Users\\naive\\Anaconda3\\lib\\site-packages\\sklearn\\utils\\deprecation.py:125: FutureWarning: You are accessing a training score ('split2_train_score'), which will not be available by default any more in 0.21. If you need training scores, please set return_train_score=True\n",
      "  warnings.warn(*warn_args, **warn_kwargs)\n",
      "C:\\Users\\naive\\Anaconda3\\lib\\site-packages\\sklearn\\utils\\deprecation.py:125: FutureWarning: You are accessing a training score ('split3_train_score'), which will not be available by default any more in 0.21. If you need training scores, please set return_train_score=True\n",
      "  warnings.warn(*warn_args, **warn_kwargs)\n",
      "C:\\Users\\naive\\Anaconda3\\lib\\site-packages\\sklearn\\utils\\deprecation.py:125: FutureWarning: You are accessing a training score ('split4_train_score'), which will not be available by default any more in 0.21. If you need training scores, please set return_train_score=True\n",
      "  warnings.warn(*warn_args, **warn_kwargs)\n",
      "C:\\Users\\naive\\Anaconda3\\lib\\site-packages\\sklearn\\utils\\deprecation.py:125: FutureWarning: You are accessing a training score ('mean_train_score'), which will not be available by default any more in 0.21. If you need training scores, please set return_train_score=True\n",
      "  warnings.warn(*warn_args, **warn_kwargs)\n",
      "C:\\Users\\naive\\Anaconda3\\lib\\site-packages\\sklearn\\utils\\deprecation.py:125: FutureWarning: You are accessing a training score ('std_train_score'), which will not be available by default any more in 0.21. If you need training scores, please set return_train_score=True\n",
      "  warnings.warn(*warn_args, **warn_kwargs)\n"
     ]
    }
   ],
   "source": [
    "GBR_grid_result = pd.DataFrame(GBR_grid.cv_results_)"
   ]
  },
  {
   "cell_type": "code",
   "execution_count": 50,
   "metadata": {
    "ExecuteTime": {
     "end_time": "2019-11-30T17:29:00.483734Z",
     "start_time": "2019-11-30T17:29:00.479704Z"
    }
   },
   "outputs": [],
   "source": [
    "GBR_grid_result.sort_values('rank_test_score', ascending=True, inplace= True)"
   ]
  },
  {
   "cell_type": "code",
   "execution_count": 53,
   "metadata": {
    "ExecuteTime": {
     "end_time": "2019-11-30T17:32:36.771221Z",
     "start_time": "2019-11-30T17:32:36.648947Z"
    }
   },
   "outputs": [],
   "source": [
    "GBR_grid_result = GBR_grid_result[['params', 'rank_test_score', 'mean_test_score', 'mean_train_score']]"
   ]
  },
  {
   "cell_type": "code",
   "execution_count": 54,
   "metadata": {
    "ExecuteTime": {
     "end_time": "2019-11-30T17:32:39.516709Z",
     "start_time": "2019-11-30T17:32:39.499759Z"
    }
   },
   "outputs": [],
   "source": [
    "GBR_grid_result.to_csv('GBR_Grid_Result.csv')"
   ]
  },
  {
   "cell_type": "code",
   "execution_count": 55,
   "metadata": {
    "ExecuteTime": {
     "end_time": "2019-11-30T17:34:56.614832Z",
     "start_time": "2019-11-30T17:34:56.162285Z"
    }
   },
   "outputs": [
    {
     "data": {
      "text/plain": [
       "['GBR_BEST_AGE.pkl']"
      ]
     },
     "execution_count": 55,
     "metadata": {},
     "output_type": "execute_result"
    }
   ],
   "source": [
    "joblib.dump(GBR_grid.best_estimator_, 'GBR_BEST_AGE.pkl')"
   ]
  },
  {
   "cell_type": "code",
   "execution_count": 56,
   "metadata": {
    "ExecuteTime": {
     "end_time": "2019-11-30T17:39:09.033720Z",
     "start_time": "2019-11-30T17:39:08.486657Z"
    }
   },
   "outputs": [],
   "source": [
    "RF_best_model = joblib.load('RF_BEST_AGE.pkl')\n",
    "SVR_best_model = joblib.load('SVR_BEST_AGE.pkl')\n",
    "GBR_best_model = joblib.load('GBR_BEST_AGE.pkl')"
   ]
  },
  {
   "cell_type": "code",
   "execution_count": 59,
   "metadata": {
    "ExecuteTime": {
     "end_time": "2019-11-30T17:42:54.324384Z",
     "start_time": "2019-11-30T17:42:54.302451Z"
    }
   },
   "outputs": [
    {
     "data": {
      "text/html": [
       "<div>\n",
       "<style scoped>\n",
       "    .dataframe tbody tr th:only-of-type {\n",
       "        vertical-align: middle;\n",
       "    }\n",
       "\n",
       "    .dataframe tbody tr th {\n",
       "        vertical-align: top;\n",
       "    }\n",
       "\n",
       "    .dataframe thead th {\n",
       "        text-align: right;\n",
       "    }\n",
       "</style>\n",
       "<table border=\"1\" class=\"dataframe\">\n",
       "  <thead>\n",
       "    <tr style=\"text-align: right;\">\n",
       "      <th></th>\n",
       "      <th>Cabin_letter</th>\n",
       "      <th>C</th>\n",
       "      <th>Q</th>\n",
       "      <th>S</th>\n",
       "      <th>title</th>\n",
       "      <th>SibSp</th>\n",
       "      <th>Fare_0</th>\n",
       "      <th>Fare_1</th>\n",
       "      <th>Fare_2</th>\n",
       "      <th>Fare_3</th>\n",
       "      <th>Fare_4</th>\n",
       "      <th>Pclass_Fare_Category2</th>\n",
       "      <th>RF_Age</th>\n",
       "    </tr>\n",
       "  </thead>\n",
       "  <tbody>\n",
       "    <tr>\n",
       "      <th>5</th>\n",
       "      <td>0</td>\n",
       "      <td>0</td>\n",
       "      <td>1</td>\n",
       "      <td>0</td>\n",
       "      <td>0</td>\n",
       "      <td>0</td>\n",
       "      <td>0</td>\n",
       "      <td>0</td>\n",
       "      <td>1</td>\n",
       "      <td>0</td>\n",
       "      <td>0</td>\n",
       "      <td>5</td>\n",
       "      <td>31.556833</td>\n",
       "    </tr>\n",
       "    <tr>\n",
       "      <th>17</th>\n",
       "      <td>0</td>\n",
       "      <td>0</td>\n",
       "      <td>0</td>\n",
       "      <td>1</td>\n",
       "      <td>0</td>\n",
       "      <td>0</td>\n",
       "      <td>0</td>\n",
       "      <td>0</td>\n",
       "      <td>0</td>\n",
       "      <td>1</td>\n",
       "      <td>0</td>\n",
       "      <td>3</td>\n",
       "      <td>32.113511</td>\n",
       "    </tr>\n",
       "    <tr>\n",
       "      <th>19</th>\n",
       "      <td>0</td>\n",
       "      <td>1</td>\n",
       "      <td>0</td>\n",
       "      <td>0</td>\n",
       "      <td>1</td>\n",
       "      <td>0</td>\n",
       "      <td>1</td>\n",
       "      <td>0</td>\n",
       "      <td>0</td>\n",
       "      <td>0</td>\n",
       "      <td>0</td>\n",
       "      <td>5</td>\n",
       "      <td>32.093390</td>\n",
       "    </tr>\n",
       "    <tr>\n",
       "      <th>26</th>\n",
       "      <td>0</td>\n",
       "      <td>1</td>\n",
       "      <td>0</td>\n",
       "      <td>0</td>\n",
       "      <td>0</td>\n",
       "      <td>0</td>\n",
       "      <td>1</td>\n",
       "      <td>0</td>\n",
       "      <td>0</td>\n",
       "      <td>0</td>\n",
       "      <td>0</td>\n",
       "      <td>5</td>\n",
       "      <td>27.645623</td>\n",
       "    </tr>\n",
       "    <tr>\n",
       "      <th>28</th>\n",
       "      <td>0</td>\n",
       "      <td>0</td>\n",
       "      <td>1</td>\n",
       "      <td>0</td>\n",
       "      <td>2</td>\n",
       "      <td>0</td>\n",
       "      <td>0</td>\n",
       "      <td>0</td>\n",
       "      <td>1</td>\n",
       "      <td>0</td>\n",
       "      <td>0</td>\n",
       "      <td>5</td>\n",
       "      <td>22.268607</td>\n",
       "    </tr>\n",
       "  </tbody>\n",
       "</table>\n",
       "</div>"
      ],
      "text/plain": [
       "    Cabin_letter  C  Q  S  title  SibSp  Fare_0  Fare_1  Fare_2  Fare_3  \\\n",
       "5              0  0  1  0      0      0       0       0       1       0   \n",
       "17             0  0  0  1      0      0       0       0       0       1   \n",
       "19             0  1  0  0      1      0       1       0       0       0   \n",
       "26             0  1  0  0      0      0       1       0       0       0   \n",
       "28             0  0  1  0      2      0       0       0       1       0   \n",
       "\n",
       "    Fare_4  Pclass_Fare_Category2     RF_Age  \n",
       "5        0                      5  31.556833  \n",
       "17       0                      3  32.113511  \n",
       "19       0                      5  32.093390  \n",
       "26       0                      5  27.645623  \n",
       "28       0                      5  22.268607  "
      ]
     },
     "execution_count": 59,
     "metadata": {},
     "output_type": "execute_result"
    }
   ],
   "source": [
    "X_test.head()"
   ]
  },
  {
   "cell_type": "code",
   "execution_count": 64,
   "metadata": {
    "ExecuteTime": {
     "end_time": "2019-11-30T17:45:59.537086Z",
     "start_time": "2019-11-30T17:45:59.074570Z"
    }
   },
   "outputs": [
    {
     "name": "stderr",
     "output_type": "stream",
     "text": [
      "C:\\Users\\naive\\Anaconda3\\lib\\site-packages\\ipykernel_launcher.py:1: SettingWithCopyWarning: \n",
      "A value is trying to be set on a copy of a slice from a DataFrame.\n",
      "Try using .loc[row_indexer,col_indexer] = value instead\n",
      "\n",
      "See the caveats in the documentation: http://pandas.pydata.org/pandas-docs/stable/indexing.html#indexing-view-versus-copy\n",
      "  \"\"\"Entry point for launching an IPython kernel.\n"
     ]
    }
   ],
   "source": [
    "X_test['RF_Age'] = RF_best_model.predict(X_test[['Cabin_letter', 'C', 'Q', 'S', 'title', 'SibSp', 'Fare_0', 'Fare_1', 'Fare_2', 'Fare_3', 'Fare_4', 'Pclass_Fare_Category2']])"
   ]
  },
  {
   "cell_type": "code",
   "execution_count": 61,
   "metadata": {
    "ExecuteTime": {
     "end_time": "2019-11-30T17:44:45.081603Z",
     "start_time": "2019-11-30T17:44:44.504468Z"
    }
   },
   "outputs": [
    {
     "name": "stderr",
     "output_type": "stream",
     "text": [
      "C:\\Users\\naive\\Anaconda3\\lib\\site-packages\\ipykernel_launcher.py:1: SettingWithCopyWarning: \n",
      "A value is trying to be set on a copy of a slice from a DataFrame.\n",
      "Try using .loc[row_indexer,col_indexer] = value instead\n",
      "\n",
      "See the caveats in the documentation: http://pandas.pydata.org/pandas-docs/stable/indexing.html#indexing-view-versus-copy\n",
      "  \"\"\"Entry point for launching an IPython kernel.\n"
     ]
    }
   ],
   "source": [
    "X_test['SVR_Age'] = SVR_best_model.predict(X_test[['Cabin_letter', 'C', 'Q', 'S', 'title', 'SibSp', 'Fare_0', 'Fare_1', 'Fare_2', 'Fare_3', 'Fare_4', 'Pclass_Fare_Category2']])"
   ]
  },
  {
   "cell_type": "code",
   "execution_count": 63,
   "metadata": {
    "ExecuteTime": {
     "end_time": "2019-11-30T17:45:28.769262Z",
     "start_time": "2019-11-30T17:45:28.288470Z"
    }
   },
   "outputs": [
    {
     "name": "stderr",
     "output_type": "stream",
     "text": [
      "C:\\Users\\naive\\Anaconda3\\lib\\site-packages\\ipykernel_launcher.py:1: SettingWithCopyWarning: \n",
      "A value is trying to be set on a copy of a slice from a DataFrame.\n",
      "Try using .loc[row_indexer,col_indexer] = value instead\n",
      "\n",
      "See the caveats in the documentation: http://pandas.pydata.org/pandas-docs/stable/indexing.html#indexing-view-versus-copy\n",
      "  \"\"\"Entry point for launching an IPython kernel.\n"
     ]
    }
   ],
   "source": [
    "X_test['GBR_Age'] = GBR_best_model.predict(X_test[['Cabin_letter', 'C', 'Q', 'S', 'title', 'SibSp', 'Fare_0', 'Fare_1', 'Fare_2', 'Fare_3', 'Fare_4', 'Pclass_Fare_Category2']])"
   ]
  },
  {
   "cell_type": "code",
   "execution_count": 65,
   "metadata": {
    "ExecuteTime": {
     "end_time": "2019-11-30T17:46:10.802707Z",
     "start_time": "2019-11-30T17:46:10.784756Z"
    }
   },
   "outputs": [
    {
     "data": {
      "text/html": [
       "<div>\n",
       "<style scoped>\n",
       "    .dataframe tbody tr th:only-of-type {\n",
       "        vertical-align: middle;\n",
       "    }\n",
       "\n",
       "    .dataframe tbody tr th {\n",
       "        vertical-align: top;\n",
       "    }\n",
       "\n",
       "    .dataframe thead th {\n",
       "        text-align: right;\n",
       "    }\n",
       "</style>\n",
       "<table border=\"1\" class=\"dataframe\">\n",
       "  <thead>\n",
       "    <tr style=\"text-align: right;\">\n",
       "      <th></th>\n",
       "      <th>Cabin_letter</th>\n",
       "      <th>C</th>\n",
       "      <th>Q</th>\n",
       "      <th>S</th>\n",
       "      <th>title</th>\n",
       "      <th>SibSp</th>\n",
       "      <th>Fare_0</th>\n",
       "      <th>Fare_1</th>\n",
       "      <th>Fare_2</th>\n",
       "      <th>Fare_3</th>\n",
       "      <th>Fare_4</th>\n",
       "      <th>Pclass_Fare_Category2</th>\n",
       "      <th>RF_Age</th>\n",
       "      <th>SVR_Age</th>\n",
       "      <th>GBR_Age</th>\n",
       "    </tr>\n",
       "  </thead>\n",
       "  <tbody>\n",
       "    <tr>\n",
       "      <th>5</th>\n",
       "      <td>0</td>\n",
       "      <td>0</td>\n",
       "      <td>1</td>\n",
       "      <td>0</td>\n",
       "      <td>0</td>\n",
       "      <td>0</td>\n",
       "      <td>0</td>\n",
       "      <td>0</td>\n",
       "      <td>1</td>\n",
       "      <td>0</td>\n",
       "      <td>0</td>\n",
       "      <td>5</td>\n",
       "      <td>31.556833</td>\n",
       "      <td>29.954672</td>\n",
       "      <td>30.355797</td>\n",
       "    </tr>\n",
       "    <tr>\n",
       "      <th>17</th>\n",
       "      <td>0</td>\n",
       "      <td>0</td>\n",
       "      <td>0</td>\n",
       "      <td>1</td>\n",
       "      <td>0</td>\n",
       "      <td>0</td>\n",
       "      <td>0</td>\n",
       "      <td>0</td>\n",
       "      <td>0</td>\n",
       "      <td>1</td>\n",
       "      <td>0</td>\n",
       "      <td>3</td>\n",
       "      <td>32.113511</td>\n",
       "      <td>30.100350</td>\n",
       "      <td>32.134562</td>\n",
       "    </tr>\n",
       "    <tr>\n",
       "      <th>19</th>\n",
       "      <td>0</td>\n",
       "      <td>1</td>\n",
       "      <td>0</td>\n",
       "      <td>0</td>\n",
       "      <td>1</td>\n",
       "      <td>0</td>\n",
       "      <td>1</td>\n",
       "      <td>0</td>\n",
       "      <td>0</td>\n",
       "      <td>0</td>\n",
       "      <td>0</td>\n",
       "      <td>5</td>\n",
       "      <td>32.093390</td>\n",
       "      <td>24.129579</td>\n",
       "      <td>31.436754</td>\n",
       "    </tr>\n",
       "    <tr>\n",
       "      <th>26</th>\n",
       "      <td>0</td>\n",
       "      <td>1</td>\n",
       "      <td>0</td>\n",
       "      <td>0</td>\n",
       "      <td>0</td>\n",
       "      <td>0</td>\n",
       "      <td>1</td>\n",
       "      <td>0</td>\n",
       "      <td>0</td>\n",
       "      <td>0</td>\n",
       "      <td>0</td>\n",
       "      <td>5</td>\n",
       "      <td>27.645623</td>\n",
       "      <td>23.600305</td>\n",
       "      <td>27.690705</td>\n",
       "    </tr>\n",
       "    <tr>\n",
       "      <th>28</th>\n",
       "      <td>0</td>\n",
       "      <td>0</td>\n",
       "      <td>1</td>\n",
       "      <td>0</td>\n",
       "      <td>2</td>\n",
       "      <td>0</td>\n",
       "      <td>0</td>\n",
       "      <td>0</td>\n",
       "      <td>1</td>\n",
       "      <td>0</td>\n",
       "      <td>0</td>\n",
       "      <td>5</td>\n",
       "      <td>22.268607</td>\n",
       "      <td>19.099905</td>\n",
       "      <td>22.658978</td>\n",
       "    </tr>\n",
       "  </tbody>\n",
       "</table>\n",
       "</div>"
      ],
      "text/plain": [
       "    Cabin_letter  C  Q  S  title  SibSp  Fare_0  Fare_1  Fare_2  Fare_3  \\\n",
       "5              0  0  1  0      0      0       0       0       1       0   \n",
       "17             0  0  0  1      0      0       0       0       0       1   \n",
       "19             0  1  0  0      1      0       1       0       0       0   \n",
       "26             0  1  0  0      0      0       1       0       0       0   \n",
       "28             0  0  1  0      2      0       0       0       1       0   \n",
       "\n",
       "    Fare_4  Pclass_Fare_Category2     RF_Age    SVR_Age    GBR_Age  \n",
       "5        0                      5  31.556833  29.954672  30.355797  \n",
       "17       0                      3  32.113511  30.100350  32.134562  \n",
       "19       0                      5  32.093390  24.129579  31.436754  \n",
       "26       0                      5  27.645623  23.600305  27.690705  \n",
       "28       0                      5  22.268607  19.099905  22.658978  "
      ]
     },
     "execution_count": 65,
     "metadata": {},
     "output_type": "execute_result"
    }
   ],
   "source": [
    "X_test.head()"
   ]
  },
  {
   "cell_type": "code",
   "execution_count": 71,
   "metadata": {
    "ExecuteTime": {
     "end_time": "2019-11-30T19:21:58.969196Z",
     "start_time": "2019-11-30T19:21:58.417206Z"
    }
   },
   "outputs": [
    {
     "name": "stderr",
     "output_type": "stream",
     "text": [
      "C:\\Users\\naive\\Anaconda3\\lib\\site-packages\\pandas\\core\\frame.py:3697: SettingWithCopyWarning: \n",
      "A value is trying to be set on a copy of a slice from a DataFrame\n",
      "\n",
      "See the caveats in the documentation: http://pandas.pydata.org/pandas-docs/stable/indexing.html#indexing-view-versus-copy\n",
      "  errors=errors)\n"
     ]
    }
   ],
   "source": [
    "X_test.drop('SVR_Age', axis=1, inplace=True)"
   ]
  },
  {
   "cell_type": "code",
   "execution_count": 72,
   "metadata": {
    "ExecuteTime": {
     "end_time": "2019-11-30T19:22:07.154879Z",
     "start_time": "2019-11-30T19:22:07.137923Z"
    }
   },
   "outputs": [
    {
     "data": {
      "text/html": [
       "<div>\n",
       "<style scoped>\n",
       "    .dataframe tbody tr th:only-of-type {\n",
       "        vertical-align: middle;\n",
       "    }\n",
       "\n",
       "    .dataframe tbody tr th {\n",
       "        vertical-align: top;\n",
       "    }\n",
       "\n",
       "    .dataframe thead th {\n",
       "        text-align: right;\n",
       "    }\n",
       "</style>\n",
       "<table border=\"1\" class=\"dataframe\">\n",
       "  <thead>\n",
       "    <tr style=\"text-align: right;\">\n",
       "      <th></th>\n",
       "      <th>Cabin_letter</th>\n",
       "      <th>C</th>\n",
       "      <th>Q</th>\n",
       "      <th>S</th>\n",
       "      <th>title</th>\n",
       "      <th>SibSp</th>\n",
       "      <th>Fare_0</th>\n",
       "      <th>Fare_1</th>\n",
       "      <th>Fare_2</th>\n",
       "      <th>Fare_3</th>\n",
       "      <th>Fare_4</th>\n",
       "      <th>Pclass_Fare_Category2</th>\n",
       "      <th>RF_Age</th>\n",
       "      <th>GBR_Age</th>\n",
       "      <th>Age</th>\n",
       "    </tr>\n",
       "  </thead>\n",
       "  <tbody>\n",
       "    <tr>\n",
       "      <th>5</th>\n",
       "      <td>0</td>\n",
       "      <td>0</td>\n",
       "      <td>1</td>\n",
       "      <td>0</td>\n",
       "      <td>0</td>\n",
       "      <td>0</td>\n",
       "      <td>0</td>\n",
       "      <td>0</td>\n",
       "      <td>1</td>\n",
       "      <td>0</td>\n",
       "      <td>0</td>\n",
       "      <td>5</td>\n",
       "      <td>31.556833</td>\n",
       "      <td>30.355797</td>\n",
       "      <td>28.746285</td>\n",
       "    </tr>\n",
       "    <tr>\n",
       "      <th>17</th>\n",
       "      <td>0</td>\n",
       "      <td>0</td>\n",
       "      <td>0</td>\n",
       "      <td>1</td>\n",
       "      <td>0</td>\n",
       "      <td>0</td>\n",
       "      <td>0</td>\n",
       "      <td>0</td>\n",
       "      <td>0</td>\n",
       "      <td>1</td>\n",
       "      <td>0</td>\n",
       "      <td>3</td>\n",
       "      <td>32.113511</td>\n",
       "      <td>32.134562</td>\n",
       "      <td>28.746285</td>\n",
       "    </tr>\n",
       "    <tr>\n",
       "      <th>19</th>\n",
       "      <td>0</td>\n",
       "      <td>1</td>\n",
       "      <td>0</td>\n",
       "      <td>0</td>\n",
       "      <td>1</td>\n",
       "      <td>0</td>\n",
       "      <td>1</td>\n",
       "      <td>0</td>\n",
       "      <td>0</td>\n",
       "      <td>0</td>\n",
       "      <td>0</td>\n",
       "      <td>5</td>\n",
       "      <td>32.093390</td>\n",
       "      <td>31.436754</td>\n",
       "      <td>28.746285</td>\n",
       "    </tr>\n",
       "    <tr>\n",
       "      <th>26</th>\n",
       "      <td>0</td>\n",
       "      <td>1</td>\n",
       "      <td>0</td>\n",
       "      <td>0</td>\n",
       "      <td>0</td>\n",
       "      <td>0</td>\n",
       "      <td>1</td>\n",
       "      <td>0</td>\n",
       "      <td>0</td>\n",
       "      <td>0</td>\n",
       "      <td>0</td>\n",
       "      <td>5</td>\n",
       "      <td>27.645623</td>\n",
       "      <td>27.690705</td>\n",
       "      <td>28.746285</td>\n",
       "    </tr>\n",
       "    <tr>\n",
       "      <th>28</th>\n",
       "      <td>0</td>\n",
       "      <td>0</td>\n",
       "      <td>1</td>\n",
       "      <td>0</td>\n",
       "      <td>2</td>\n",
       "      <td>0</td>\n",
       "      <td>0</td>\n",
       "      <td>0</td>\n",
       "      <td>1</td>\n",
       "      <td>0</td>\n",
       "      <td>0</td>\n",
       "      <td>5</td>\n",
       "      <td>22.268607</td>\n",
       "      <td>22.658978</td>\n",
       "      <td>28.746285</td>\n",
       "    </tr>\n",
       "  </tbody>\n",
       "</table>\n",
       "</div>"
      ],
      "text/plain": [
       "    Cabin_letter  C  Q  S  title  SibSp  Fare_0  Fare_1  Fare_2  Fare_3  \\\n",
       "5              0  0  1  0      0      0       0       0       1       0   \n",
       "17             0  0  0  1      0      0       0       0       0       1   \n",
       "19             0  1  0  0      1      0       1       0       0       0   \n",
       "26             0  1  0  0      0      0       1       0       0       0   \n",
       "28             0  0  1  0      2      0       0       0       1       0   \n",
       "\n",
       "    Fare_4  Pclass_Fare_Category2     RF_Age    GBR_Age        Age  \n",
       "5        0                      5  31.556833  30.355797  28.746285  \n",
       "17       0                      3  32.113511  32.134562  28.746285  \n",
       "19       0                      5  32.093390  31.436754  28.746285  \n",
       "26       0                      5  27.645623  27.690705  28.746285  \n",
       "28       0                      5  22.268607  22.658978  28.746285  "
      ]
     },
     "execution_count": 72,
     "metadata": {},
     "output_type": "execute_result"
    }
   ],
   "source": [
    "X_test.head()"
   ]
  },
  {
   "cell_type": "code",
   "execution_count": 77,
   "metadata": {
    "ExecuteTime": {
     "end_time": "2019-11-30T19:25:43.570683Z",
     "start_time": "2019-11-30T19:25:43.565697Z"
    }
   },
   "outputs": [
    {
     "data": {
      "text/plain": [
       "31.556832760070854"
      ]
     },
     "execution_count": 77,
     "metadata": {},
     "output_type": "execute_result"
    }
   ],
   "source": [
    "X_test.loc[5,'RF_Age']"
   ]
  },
  {
   "cell_type": "code",
   "execution_count": 80,
   "metadata": {
    "ExecuteTime": {
     "end_time": "2019-11-30T19:29:43.199116Z",
     "start_time": "2019-11-30T19:29:42.633628Z"
    }
   },
   "outputs": [
    {
     "name": "stderr",
     "output_type": "stream",
     "text": [
      "C:\\Users\\naive\\Anaconda3\\lib\\site-packages\\ipykernel_launcher.py:1: SettingWithCopyWarning: \n",
      "A value is trying to be set on a copy of a slice from a DataFrame.\n",
      "Try using .loc[row_indexer,col_indexer] = value instead\n",
      "\n",
      "See the caveats in the documentation: http://pandas.pydata.org/pandas-docs/stable/indexing.html#indexing-view-versus-copy\n",
      "  \"\"\"Entry point for launching an IPython kernel.\n"
     ]
    }
   ],
   "source": [
    "X_test['Age'] = X_test.apply(lambda x : np.mean([x['RF_Age'], x['GBR_Age']]), axis=1)"
   ]
  },
  {
   "cell_type": "code",
   "execution_count": 81,
   "metadata": {
    "ExecuteTime": {
     "end_time": "2019-11-30T19:29:46.125282Z",
     "start_time": "2019-11-30T19:29:46.106366Z"
    }
   },
   "outputs": [
    {
     "data": {
      "text/html": [
       "<div>\n",
       "<style scoped>\n",
       "    .dataframe tbody tr th:only-of-type {\n",
       "        vertical-align: middle;\n",
       "    }\n",
       "\n",
       "    .dataframe tbody tr th {\n",
       "        vertical-align: top;\n",
       "    }\n",
       "\n",
       "    .dataframe thead th {\n",
       "        text-align: right;\n",
       "    }\n",
       "</style>\n",
       "<table border=\"1\" class=\"dataframe\">\n",
       "  <thead>\n",
       "    <tr style=\"text-align: right;\">\n",
       "      <th></th>\n",
       "      <th>Cabin_letter</th>\n",
       "      <th>C</th>\n",
       "      <th>Q</th>\n",
       "      <th>S</th>\n",
       "      <th>title</th>\n",
       "      <th>SibSp</th>\n",
       "      <th>Fare_0</th>\n",
       "      <th>Fare_1</th>\n",
       "      <th>Fare_2</th>\n",
       "      <th>Fare_3</th>\n",
       "      <th>Fare_4</th>\n",
       "      <th>Pclass_Fare_Category2</th>\n",
       "      <th>RF_Age</th>\n",
       "      <th>GBR_Age</th>\n",
       "      <th>Age</th>\n",
       "    </tr>\n",
       "  </thead>\n",
       "  <tbody>\n",
       "    <tr>\n",
       "      <th>5</th>\n",
       "      <td>0</td>\n",
       "      <td>0</td>\n",
       "      <td>1</td>\n",
       "      <td>0</td>\n",
       "      <td>0</td>\n",
       "      <td>0</td>\n",
       "      <td>0</td>\n",
       "      <td>0</td>\n",
       "      <td>1</td>\n",
       "      <td>0</td>\n",
       "      <td>0</td>\n",
       "      <td>5</td>\n",
       "      <td>31.556833</td>\n",
       "      <td>30.355797</td>\n",
       "      <td>30.956315</td>\n",
       "    </tr>\n",
       "    <tr>\n",
       "      <th>17</th>\n",
       "      <td>0</td>\n",
       "      <td>0</td>\n",
       "      <td>0</td>\n",
       "      <td>1</td>\n",
       "      <td>0</td>\n",
       "      <td>0</td>\n",
       "      <td>0</td>\n",
       "      <td>0</td>\n",
       "      <td>0</td>\n",
       "      <td>1</td>\n",
       "      <td>0</td>\n",
       "      <td>3</td>\n",
       "      <td>32.113511</td>\n",
       "      <td>32.134562</td>\n",
       "      <td>32.124037</td>\n",
       "    </tr>\n",
       "    <tr>\n",
       "      <th>19</th>\n",
       "      <td>0</td>\n",
       "      <td>1</td>\n",
       "      <td>0</td>\n",
       "      <td>0</td>\n",
       "      <td>1</td>\n",
       "      <td>0</td>\n",
       "      <td>1</td>\n",
       "      <td>0</td>\n",
       "      <td>0</td>\n",
       "      <td>0</td>\n",
       "      <td>0</td>\n",
       "      <td>5</td>\n",
       "      <td>32.093390</td>\n",
       "      <td>31.436754</td>\n",
       "      <td>31.765072</td>\n",
       "    </tr>\n",
       "    <tr>\n",
       "      <th>26</th>\n",
       "      <td>0</td>\n",
       "      <td>1</td>\n",
       "      <td>0</td>\n",
       "      <td>0</td>\n",
       "      <td>0</td>\n",
       "      <td>0</td>\n",
       "      <td>1</td>\n",
       "      <td>0</td>\n",
       "      <td>0</td>\n",
       "      <td>0</td>\n",
       "      <td>0</td>\n",
       "      <td>5</td>\n",
       "      <td>27.645623</td>\n",
       "      <td>27.690705</td>\n",
       "      <td>27.668164</td>\n",
       "    </tr>\n",
       "    <tr>\n",
       "      <th>28</th>\n",
       "      <td>0</td>\n",
       "      <td>0</td>\n",
       "      <td>1</td>\n",
       "      <td>0</td>\n",
       "      <td>2</td>\n",
       "      <td>0</td>\n",
       "      <td>0</td>\n",
       "      <td>0</td>\n",
       "      <td>1</td>\n",
       "      <td>0</td>\n",
       "      <td>0</td>\n",
       "      <td>5</td>\n",
       "      <td>22.268607</td>\n",
       "      <td>22.658978</td>\n",
       "      <td>22.463793</td>\n",
       "    </tr>\n",
       "  </tbody>\n",
       "</table>\n",
       "</div>"
      ],
      "text/plain": [
       "    Cabin_letter  C  Q  S  title  SibSp  Fare_0  Fare_1  Fare_2  Fare_3  \\\n",
       "5              0  0  1  0      0      0       0       0       1       0   \n",
       "17             0  0  0  1      0      0       0       0       0       1   \n",
       "19             0  1  0  0      1      0       1       0       0       0   \n",
       "26             0  1  0  0      0      0       1       0       0       0   \n",
       "28             0  0  1  0      2      0       0       0       1       0   \n",
       "\n",
       "    Fare_4  Pclass_Fare_Category2     RF_Age    GBR_Age        Age  \n",
       "5        0                      5  31.556833  30.355797  30.956315  \n",
       "17       0                      3  32.113511  32.134562  32.124037  \n",
       "19       0                      5  32.093390  31.436754  31.765072  \n",
       "26       0                      5  27.645623  27.690705  27.668164  \n",
       "28       0                      5  22.268607  22.658978  22.463793  "
      ]
     },
     "execution_count": 81,
     "metadata": {},
     "output_type": "execute_result"
    }
   ],
   "source": [
    "X_test.head()"
   ]
  }
 ],
 "metadata": {
  "kernelspec": {
   "display_name": "Python 3",
   "language": "python",
   "name": "python3"
  },
  "language_info": {
   "codemirror_mode": {
    "name": "ipython",
    "version": 3
   },
   "file_extension": ".py",
   "mimetype": "text/x-python",
   "name": "python",
   "nbconvert_exporter": "python",
   "pygments_lexer": "ipython3",
   "version": "3.7.1"
  },
  "toc": {
   "base_numbering": 1,
   "nav_menu": {},
   "number_sections": true,
   "sideBar": true,
   "skip_h1_title": false,
   "title_cell": "Table of Contents",
   "title_sidebar": "Contents",
   "toc_cell": false,
   "toc_position": {},
   "toc_section_display": true,
   "toc_window_display": false
  },
  "varInspector": {
   "cols": {
    "lenName": 16,
    "lenType": 16,
    "lenVar": 40
   },
   "kernels_config": {
    "python": {
     "delete_cmd_postfix": "",
     "delete_cmd_prefix": "del ",
     "library": "var_list.py",
     "varRefreshCmd": "print(var_dic_list())"
    },
    "r": {
     "delete_cmd_postfix": ") ",
     "delete_cmd_prefix": "rm(",
     "library": "var_list.r",
     "varRefreshCmd": "cat(var_dic_list()) "
    }
   },
   "types_to_exclude": [
    "module",
    "function",
    "builtin_function_or_method",
    "instance",
    "_Feature"
   ],
   "window_display": false
  }
 },
 "nbformat": 4,
 "nbformat_minor": 2
}
